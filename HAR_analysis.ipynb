{
  "nbformat": 4,
  "nbformat_minor": 0,
  "metadata": {
    "colab": {
      "provenance": [],
      "include_colab_link": true
    },
    "kernelspec": {
      "name": "python3",
      "display_name": "Python 3"
    },
    "language_info": {
      "name": "python"
    }
  },
  "cells": [
    {
      "cell_type": "markdown",
      "metadata": {
        "id": "view-in-github",
        "colab_type": "text"
      },
      "source": [
        "<a href=\"https://colab.research.google.com/github/RamKishoreKV/Human-Activity-Recognition-ML-for-Data-Science/blob/main/HAR_analysis.ipynb\" target=\"_parent\"><img src=\"https://colab.research.google.com/assets/colab-badge.svg\" alt=\"Open In Colab\"/></a>"
      ]
    },
    {
      "cell_type": "code",
      "execution_count": 46,
      "metadata": {
        "colab": {
          "base_uri": "https://localhost:8080/"
        },
        "id": "KXooXR0NiVm9",
        "outputId": "42f46634-fca6-4244-8f66-515803eafd15"
      },
      "outputs": [
        {
          "output_type": "stream",
          "name": "stdout",
          "text": [
            "Requirement already satisfied: pyspark in /usr/local/lib/python3.11/dist-packages (3.5.1)\n",
            "Requirement already satisfied: py4j==0.10.9.7 in /usr/local/lib/python3.11/dist-packages (from pyspark) (0.10.9.7)\n",
            "Requirement already satisfied: findspark in /usr/local/lib/python3.11/dist-packages (2.0.1)\n"
          ]
        }
      ],
      "source": [
        "!pip install pyspark\n",
        "!pip install findspark"
      ]
    },
    {
      "cell_type": "code",
      "source": [
        "from pyspark.sql import SparkSession\n",
        "spark = SparkSession.builder.master(\"local[*]\").getOrCreate()"
      ],
      "metadata": {
        "id": "cnHIZ4Uni7zi"
      },
      "execution_count": 47,
      "outputs": []
    },
    {
      "cell_type": "code",
      "source": [
        "!pip install hdfs3"
      ],
      "metadata": {
        "colab": {
          "base_uri": "https://localhost:8080/"
        },
        "id": "IAQBHobo4z3p",
        "outputId": "906cd8aa-747f-4188-ca31-b1b00dee4346"
      },
      "execution_count": 48,
      "outputs": [
        {
          "output_type": "stream",
          "name": "stdout",
          "text": [
            "Requirement already satisfied: hdfs3 in /usr/local/lib/python3.11/dist-packages (0.3.1)\n"
          ]
        }
      ]
    },
    {
      "cell_type": "code",
      "source": [
        "!ls \"/content/healthcare-dataset-stroke-data.csv\""
      ],
      "metadata": {
        "colab": {
          "base_uri": "https://localhost:8080/"
        },
        "id": "46runX0j4WKr",
        "outputId": "7ceb299c-1a4b-46fb-ca30-063725679aea"
      },
      "execution_count": 49,
      "outputs": [
        {
          "output_type": "stream",
          "name": "stdout",
          "text": [
            "/content/healthcare-dataset-stroke-data.csv\n"
          ]
        }
      ]
    },
    {
      "cell_type": "code",
      "source": [
        "from pyspark.sql.functions import isnan, when, count, col,explode, array, lit,rand,monotonically_increasing_id,udf\n",
        "from pyspark.ml.feature import StringIndexer,VectorAssembler\n",
        "from pyspark.ml.classification import RandomForestClassifier, DecisionTreeClassifier, LogisticRegression\n",
        "from pyspark.ml.evaluation import MulticlassClassificationEvaluator\n",
        "from pyspark.mllib.evaluation import MulticlassMetrics\n",
        "from pyspark.sql.types import IntegerType"
      ],
      "metadata": {
        "id": "f3uxS-o943ew"
      },
      "execution_count": 50,
      "outputs": []
    },
    {
      "cell_type": "code",
      "source": [
        "spark_df = spark.read.csv('/content/healthcare-dataset-stroke-data.csv', inferSchema=True, header=True)"
      ],
      "metadata": {
        "id": "yHS0TmHrjOmZ"
      },
      "execution_count": 51,
      "outputs": []
    },
    {
      "cell_type": "code",
      "source": [
        "spark_df.show(5)"
      ],
      "metadata": {
        "colab": {
          "base_uri": "https://localhost:8080/"
        },
        "id": "2pFfjwfa-nZ2",
        "outputId": "b3c08498-46af-43dd-faf8-819feb79d0e7"
      },
      "execution_count": 52,
      "outputs": [
        {
          "output_type": "stream",
          "name": "stdout",
          "text": [
            "+-----+------+----+------------+-------------+------------+-------------+--------------+-----------------+----+---------------+------+\n",
            "|   id|gender| age|hypertension|heart_disease|ever_married|    work_type|Residence_type|avg_glucose_level| bmi| smoking_status|stroke|\n",
            "+-----+------+----+------------+-------------+------------+-------------+--------------+-----------------+----+---------------+------+\n",
            "| 9046|  Male|67.0|           0|            1|         Yes|      Private|         Urban|           228.69|36.6|formerly smoked|     1|\n",
            "|51676|Female|61.0|           0|            0|         Yes|Self-employed|         Rural|           202.21| N/A|   never smoked|     1|\n",
            "|31112|  Male|80.0|           0|            1|         Yes|      Private|         Rural|           105.92|32.5|   never smoked|     1|\n",
            "|60182|Female|49.0|           0|            0|         Yes|      Private|         Urban|           171.23|34.4|         smokes|     1|\n",
            "| 1665|Female|79.0|           1|            0|         Yes|Self-employed|         Rural|           174.12|  24|   never smoked|     1|\n",
            "+-----+------+----+------------+-------------+------------+-------------+--------------+-----------------+----+---------------+------+\n",
            "only showing top 5 rows\n",
            "\n"
          ]
        }
      ]
    },
    {
      "cell_type": "code",
      "source": [
        "#Shape of the dataset...\n",
        "print(\"Shape: \", (spark_df.count(), len(spark_df.columns)))"
      ],
      "metadata": {
        "colab": {
          "base_uri": "https://localhost:8080/"
        },
        "id": "87OpXOGMrDa0",
        "outputId": "ce8c0154-cf04-481e-a5f7-513aabb8fde4"
      },
      "execution_count": 53,
      "outputs": [
        {
          "output_type": "stream",
          "name": "stdout",
          "text": [
            "Shape:  (5110, 12)\n"
          ]
        }
      ]
    },
    {
      "cell_type": "code",
      "source": [
        "#Info() as pandas....\n",
        "spark_df.printSchema()"
      ],
      "metadata": {
        "colab": {
          "base_uri": "https://localhost:8080/"
        },
        "id": "tqMEDPUl_ZCz",
        "outputId": "6ba1aaab-d859-447b-f220-4a7d8340e3fe"
      },
      "execution_count": 54,
      "outputs": [
        {
          "output_type": "stream",
          "name": "stdout",
          "text": [
            "root\n",
            " |-- id: integer (nullable = true)\n",
            " |-- gender: string (nullable = true)\n",
            " |-- age: double (nullable = true)\n",
            " |-- hypertension: integer (nullable = true)\n",
            " |-- heart_disease: integer (nullable = true)\n",
            " |-- ever_married: string (nullable = true)\n",
            " |-- work_type: string (nullable = true)\n",
            " |-- Residence_type: string (nullable = true)\n",
            " |-- avg_glucose_level: double (nullable = true)\n",
            " |-- bmi: string (nullable = true)\n",
            " |-- smoking_status: string (nullable = true)\n",
            " |-- stroke: integer (nullable = true)\n",
            "\n"
          ]
        }
      ]
    },
    {
      "cell_type": "code",
      "source": [
        "#Converting the dtype of some variables....\n",
        "spark_df = spark_df.withColumn(\"age\", spark_df[\"age\"].cast(\"integer\"))\n",
        "spark_df = spark_df.withColumn(\"bmi\", spark_df[\"bmi\"].cast(\"integer\"))\n",
        "spark_df = spark_df.withColumn(\"avg_glucose_level\", spark_df[\"avg_glucose_level\"].cast(\"integer\"))"
      ],
      "metadata": {
        "id": "yNBAoWII_e1Q"
      },
      "execution_count": 55,
      "outputs": []
    },
    {
      "cell_type": "code",
      "source": [
        "#Basic Statistics.....\n",
        "spark_df.describe().show(2)"
      ],
      "metadata": {
        "colab": {
          "base_uri": "https://localhost:8080/"
        },
        "id": "zVxp7zLi_gFP",
        "outputId": "16a71d95-de97-48cd-bab9-a318ba7040a3"
      },
      "execution_count": 56,
      "outputs": [
        {
          "output_type": "stream",
          "name": "stdout",
          "text": [
            "+-------+-----------------+------+-----------------+------------------+-------------------+------------+---------+--------------+------------------+------------------+--------------+------------------+\n",
            "|summary|               id|gender|              age|      hypertension|      heart_disease|ever_married|work_type|Residence_type| avg_glucose_level|               bmi|smoking_status|            stroke|\n",
            "+-------+-----------------+------+-----------------+------------------+-------------------+------------+---------+--------------+------------------+------------------+--------------+------------------+\n",
            "|  count|             5110|  5110|             5110|              5110|               5110|        5110|     5110|          5110|              5110|              4909|          5110|              5110|\n",
            "|   mean|36517.82935420744|  NULL|43.21526418786693|0.0974559686888454|0.05401174168297456|        NULL|     NULL|          NULL|105.65831702544031|28.448563862293746|          NULL|0.0487279843444227|\n",
            "+-------+-----------------+------+-----------------+------------------+-------------------+------------+---------+--------------+------------------+------------------+--------------+------------------+\n",
            "only showing top 2 rows\n",
            "\n"
          ]
        }
      ]
    },
    {
      "cell_type": "code",
      "source": [
        "#Statistics on Specific Features...\n",
        "spark_df.describe([\"age\", \"stroke\"]).show() #summary statistics for specific variables"
      ],
      "metadata": {
        "colab": {
          "base_uri": "https://localhost:8080/"
        },
        "id": "tFOkBosz_rDo",
        "outputId": "85b36593-a75c-4173-b6a9-e37af66d4979"
      },
      "execution_count": 57,
      "outputs": [
        {
          "output_type": "stream",
          "name": "stdout",
          "text": [
            "+-------+------------------+-------------------+\n",
            "|summary|               age|             stroke|\n",
            "+-------+------------------+-------------------+\n",
            "|  count|              5110|               5110|\n",
            "|   mean| 43.21526418786693| 0.0487279843444227|\n",
            "| stddev|22.633865752854746|0.21531985698023753|\n",
            "|    min|                 0|                  0|\n",
            "|    max|                82|                  1|\n",
            "+-------+------------------+-------------------+\n",
            "\n"
          ]
        }
      ]
    },
    {
      "cell_type": "code",
      "source": [
        "#Using the groupby on variable..\n",
        "spark_df.groupby(\"stroke\").count().show() #class statistics of categorical variables"
      ],
      "metadata": {
        "colab": {
          "base_uri": "https://localhost:8080/"
        },
        "id": "PYC-HPGA_uNg",
        "outputId": "8eb6670f-5130-4c72-de2b-08fb2c8e2f40"
      },
      "execution_count": 58,
      "outputs": [
        {
          "output_type": "stream",
          "name": "stdout",
          "text": [
            "+------+-----+\n",
            "|stroke|count|\n",
            "+------+-----+\n",
            "|     1|  249|\n",
            "|     0| 4861|\n",
            "+------+-----+\n",
            "\n"
          ]
        }
      ]
    },
    {
      "cell_type": "code",
      "source": [
        "spark_df.select(\"stroke\").distinct().show() #unique classes"
      ],
      "metadata": {
        "colab": {
          "base_uri": "https://localhost:8080/"
        },
        "id": "n5TXdg1Y_yqZ",
        "outputId": "5cb2d0fb-7b31-454e-d939-57d970f0be30"
      },
      "execution_count": 59,
      "outputs": [
        {
          "output_type": "stream",
          "name": "stdout",
          "text": [
            "+------+\n",
            "|stroke|\n",
            "+------+\n",
            "|     1|\n",
            "|     0|\n",
            "+------+\n",
            "\n"
          ]
        }
      ]
    },
    {
      "cell_type": "code",
      "source": [
        "spark_df.groupby(\"Stroke\").agg({\"age\": \"mean\"}).show()"
      ],
      "metadata": {
        "colab": {
          "base_uri": "https://localhost:8080/"
        },
        "id": "l42sk5Sv_2Dv",
        "outputId": "2fe87f01-34bb-40c1-df2b-8eb0f98c3ca4"
      },
      "execution_count": 60,
      "outputs": [
        {
          "output_type": "stream",
          "name": "stdout",
          "text": [
            "+------+-----------------+\n",
            "|Stroke|         avg(age)|\n",
            "+------+-----------------+\n",
            "|     1|67.72690763052209|\n",
            "|     0|41.95967907837893|\n",
            "+------+-----------------+\n",
            "\n"
          ]
        }
      ]
    },
    {
      "cell_type": "code",
      "source": [
        "#Selection and summary statistics of all categorical variables\n",
        "cat_cols = [col[0] for col in spark_df.dtypes if col[1] == \"string\"]\n",
        "spark_df.select(cat_cols).describe().show()\n",
        "print(\"No. Of Categorical Columns:\", len(cat_cols) + 1)"
      ],
      "metadata": {
        "colab": {
          "base_uri": "https://localhost:8080/"
        },
        "id": "ll0EvlTc_5LA",
        "outputId": "01a68c88-0062-4b4b-f4d7-1040fc6e5811"
      },
      "execution_count": 61,
      "outputs": [
        {
          "output_type": "stream",
          "name": "stdout",
          "text": [
            "+-------+------+------------+---------+--------------+--------------+\n",
            "|summary|gender|ever_married|work_type|Residence_type|smoking_status|\n",
            "+-------+------+------------+---------+--------------+--------------+\n",
            "|  count|  5110|        5110|     5110|          5110|          5110|\n",
            "|   mean|  NULL|        NULL|     NULL|          NULL|          NULL|\n",
            "| stddev|  NULL|        NULL|     NULL|          NULL|          NULL|\n",
            "|    min|Female|          No| Govt_job|         Rural|       Unknown|\n",
            "|    max| Other|         Yes| children|         Urban|        smokes|\n",
            "+-------+------+------------+---------+--------------+--------------+\n",
            "\n",
            "No. Of Categorical Columns: 6\n"
          ]
        }
      ]
    },
    {
      "cell_type": "code",
      "source": [
        "#Selection and summary statistics of all numerical variables\n",
        "num_cols = [col[0] for col in spark_df.dtypes if col[1] != \"string\"]\n",
        "spark_df.select(num_cols).describe().show()\n",
        "print(\"No. Of Numerical Columns: \",len(num_cols)+1)"
      ],
      "metadata": {
        "colab": {
          "base_uri": "https://localhost:8080/"
        },
        "id": "TKR8QFet_64Y",
        "outputId": "976831e7-8c7e-4fef-d625-ad2fb52f261d"
      },
      "execution_count": 62,
      "outputs": [
        {
          "output_type": "stream",
          "name": "stdout",
          "text": [
            "+-------+-----------------+------------------+------------------+-------------------+------------------+------------------+-------------------+\n",
            "|summary|               id|               age|      hypertension|      heart_disease| avg_glucose_level|               bmi|             stroke|\n",
            "+-------+-----------------+------------------+------------------+-------------------+------------------+------------------+-------------------+\n",
            "|  count|             5110|              5110|              5110|               5110|              5110|              4909|               5110|\n",
            "|   mean|36517.82935420744| 43.21526418786693|0.0974559686888454|0.05401174168297456|105.65831702544031|28.448563862293746| 0.0487279843444227|\n",
            "| stddev|21161.72162482715|22.633865752854746| 0.296606674233791|0.22606298750336554|45.275290309509536| 7.843833618220339|0.21531985698023753|\n",
            "|    min|               67|                 0|                 0|                  0|                55|                10|                  0|\n",
            "|    max|            72940|                82|                 1|                  1|               271|                97|                  1|\n",
            "+-------+-----------------+------------------+------------------+-------------------+------------------+------------------+-------------------+\n",
            "\n",
            "No. Of Numerical Columns:  8\n"
          ]
        }
      ]
    },
    {
      "cell_type": "code",
      "source": [
        "# mean of numerical variables relative to the target variable\n",
        "for col in [col.lower() for col in num_cols]:\n",
        "    spark_df.groupby(\"Stroke\").agg({col: \"mean\"}).show()"
      ],
      "metadata": {
        "colab": {
          "base_uri": "https://localhost:8080/"
        },
        "id": "X6gWH0G0APRN",
        "outputId": "928c837c-44db-4bb3-b3c8-c76887486d80"
      },
      "execution_count": 63,
      "outputs": [
        {
          "output_type": "stream",
          "name": "stdout",
          "text": [
            "+------+------------------+\n",
            "|Stroke|           avg(id)|\n",
            "+------+------------------+\n",
            "|     1| 37115.06827309237|\n",
            "|     0|36487.236371117055|\n",
            "+------+------------------+\n",
            "\n",
            "+------+-----------------+\n",
            "|Stroke|         avg(age)|\n",
            "+------+-----------------+\n",
            "|     1|67.72690763052209|\n",
            "|     0|41.95967907837893|\n",
            "+------+-----------------+\n",
            "\n",
            "+------+-------------------+\n",
            "|Stroke|  avg(hypertension)|\n",
            "+------+-------------------+\n",
            "|     1|0.26506024096385544|\n",
            "|     0|0.08887060275663444|\n",
            "+------+-------------------+\n",
            "\n",
            "+------+-------------------+\n",
            "|Stroke| avg(heart_disease)|\n",
            "+------+-------------------+\n",
            "|     1|0.18875502008032127|\n",
            "|     0|0.04710964822053076|\n",
            "+------+-------------------+\n",
            "\n",
            "+------+----------------------+\n",
            "|Stroke|avg(avg_glucose_level)|\n",
            "+------+----------------------+\n",
            "|     1|     132.0441767068273|\n",
            "|     0|     104.3067270109031|\n",
            "+------+----------------------+\n",
            "\n",
            "+------+------------------+\n",
            "|Stroke|          avg(bmi)|\n",
            "+------+------------------+\n",
            "|     1|30.028708133971293|\n",
            "|     0|28.378297872340426|\n",
            "+------+------------------+\n",
            "\n",
            "+------+-----------+\n",
            "|Stroke|avg(stroke)|\n",
            "+------+-----------+\n",
            "|     1|        1.0|\n",
            "|     0|        0.0|\n",
            "+------+-----------+\n",
            "\n"
          ]
        }
      ]
    },
    {
      "cell_type": "code",
      "source": [
        "#Checking the missing value again...'\n",
        "from pyspark.sql.functions import isnan, when, count, col\n",
        "spark_df.select([count(when(isnan(c) | col(c).isNull(), c)).alias(c) for c in spark_df.columns]).show()"
      ],
      "metadata": {
        "colab": {
          "base_uri": "https://localhost:8080/"
        },
        "id": "g6NiT9H8ATI8",
        "outputId": "c681f5e8-d3d5-4b5d-c95f-0e8673cd2718"
      },
      "execution_count": 74,
      "outputs": [
        {
          "output_type": "stream",
          "name": "stdout",
          "text": [
            "+------+---+------------+-------------+------------+---------+--------------+-----------------+---+--------------+------+-----------+-------+\n",
            "|gender|age|hypertension|heart_disease|ever_married|work_type|Residence_type|avg_glucose_level|bmi|smoking_status|stroke|Blood&Heart|Obesity|\n",
            "+------+---+------------+-------------+------------+---------+--------------+-----------------+---+--------------+------+-----------+-------+\n",
            "|     0|  0|           0|            0|           0|        0|             0|                0|  0|             0|     0|          0|      0|\n",
            "+------+---+------------+-------------+------------+---------+--------------+-----------------+---+--------------+------+-----------+-------+\n",
            "\n"
          ]
        }
      ]
    },
    {
      "cell_type": "code",
      "source": [
        "#Checking the specific summary on the variable...\n",
        "spark_df.select(\"bmi\").summary(\"50%\",\"mean\").show()"
      ],
      "metadata": {
        "colab": {
          "base_uri": "https://localhost:8080/"
        },
        "id": "YgTNMBIgApAy",
        "outputId": "32af21b2-ec26-4467-d925-3790e8008497"
      },
      "execution_count": 75,
      "outputs": [
        {
          "output_type": "stream",
          "name": "stdout",
          "text": [
            "+-------+-----------------+\n",
            "|summary|              bmi|\n",
            "+-------+-----------------+\n",
            "|    50%|               28|\n",
            "|   mean|28.43091976516634|\n",
            "+-------+-----------------+\n",
            "\n"
          ]
        }
      ]
    },
    {
      "cell_type": "code",
      "source": [
        "# Assigning missing values in bmi feature based on average bmi of Initials\n",
        "spark_df = spark_df.na.fill({\"bmi\" : 28})"
      ],
      "metadata": {
        "id": "nuV69cD5Ar26"
      },
      "execution_count": 76,
      "outputs": []
    },
    {
      "cell_type": "code",
      "source": [
        "#Checking the missing value again...\n",
        "spark_df.select([count(when(isnan(c) | col(c).isNull(), c)).alias(c) for c in spark_df.columns]).show()"
      ],
      "metadata": {
        "colab": {
          "base_uri": "https://localhost:8080/"
        },
        "id": "PrVbJkUvAwdr",
        "outputId": "0e2d9fc2-24b9-4e0f-ab62-06134007fa2c"
      },
      "execution_count": 77,
      "outputs": [
        {
          "output_type": "stream",
          "name": "stdout",
          "text": [
            "+------+---+------------+-------------+------------+---------+--------------+-----------------+---+--------------+------+-----------+-------+\n",
            "|gender|age|hypertension|heart_disease|ever_married|work_type|Residence_type|avg_glucose_level|bmi|smoking_status|stroke|Blood&Heart|Obesity|\n",
            "+------+---+------------+-------------+------------+---------+--------------+-----------------+---+--------------+------+-----------+-------+\n",
            "|     0|  0|           0|            0|           0|        0|             0|                0|  0|             0|     0|          0|      0|\n",
            "+------+---+------------+-------------+------------+---------+--------------+-----------------+---+--------------+------+-----------+-------+\n",
            "\n"
          ]
        }
      ]
    },
    {
      "cell_type": "code",
      "source": [
        "#Removing redundant features...\n",
        "spark_df = spark_df.drop(\"id\")\n",
        "spark_df.show(5)"
      ],
      "metadata": {
        "colab": {
          "base_uri": "https://localhost:8080/"
        },
        "id": "0S8K4fNrA1NR",
        "outputId": "3306dd09-d9a8-4021-becf-f08b9716e706"
      },
      "execution_count": 78,
      "outputs": [
        {
          "output_type": "stream",
          "name": "stdout",
          "text": [
            "+------+------+------------+-------------+------------+-------------+--------------+-----------------+---+---------------+------+-----------+-------+\n",
            "|gender|   age|hypertension|heart_disease|ever_married|    work_type|Residence_type|avg_glucose_level|bmi| smoking_status|stroke|Blood&Heart|Obesity|\n",
            "+------+------+------------+-------------+------------+-------------+--------------+-----------------+---+---------------+------+-----------+-------+\n",
            "|  Male|OldAge|           0|            1|         Yes|      Private|         Urban|              228| 36|formerly smoked|     1|          0|  8.208|\n",
            "|Female|OldAge|           0|            0|         Yes|Self-employed|         Rural|              202| 28|   never smoked|     1|          0|  5.656|\n",
            "|  Male|OldAge|           0|            1|         Yes|      Private|         Rural|              105| 32|   never smoked|     1|          0|   3.36|\n",
            "|Female|OldAge|           0|            0|         Yes|      Private|         Urban|              171| 34|         smokes|     1|          0|  5.814|\n",
            "|Female|OldAge|           1|            0|         Yes|Self-employed|         Rural|              174| 24|   never smoked|     1|          0|  4.176|\n",
            "+------+------+------------+-------------+------------+-------------+--------------+-----------------+---+---------------+------+-----------+-------+\n",
            "only showing top 5 rows\n",
            "\n"
          ]
        }
      ]
    },
    {
      "cell_type": "code",
      "source": [
        "# Feature generation...\n",
        "spark_df = spark_df.withColumn('Blood&Heart', spark_df.hypertension * spark_df.heart_disease)\n",
        "spark_df = spark_df.withColumn('Obesity', spark_df[\"bmi\"] * spark_df[\"avg_glucose_level\"]/1000)"
      ],
      "metadata": {
        "id": "OgGhFgSiA6Uq"
      },
      "execution_count": 79,
      "outputs": []
    },
    {
      "cell_type": "code",
      "source": [
        "#First look...\n",
        "spark_df.show(2)"
      ],
      "metadata": {
        "colab": {
          "base_uri": "https://localhost:8080/"
        },
        "id": "NFbEjjxcA-A4",
        "outputId": "054cebd3-b89c-4ea0-d78c-06bc0e1ce793"
      },
      "execution_count": 80,
      "outputs": [
        {
          "output_type": "stream",
          "name": "stdout",
          "text": [
            "+------+------+------------+-------------+------------+-------------+--------------+-----------------+---+---------------+------+-----------+-------+\n",
            "|gender|   age|hypertension|heart_disease|ever_married|    work_type|Residence_type|avg_glucose_level|bmi| smoking_status|stroke|Blood&Heart|Obesity|\n",
            "+------+------+------------+-------------+------------+-------------+--------------+-----------------+---+---------------+------+-----------+-------+\n",
            "|  Male|OldAge|           0|            1|         Yes|      Private|         Urban|              228| 36|formerly smoked|     1|          0|  8.208|\n",
            "|Female|OldAge|           0|            0|         Yes|Self-employed|         Rural|              202| 28|   never smoked|     1|          0|  5.656|\n",
            "+------+------+------------+-------------+------------+-------------+--------------+-----------------+---+---------------+------+-----------+-------+\n",
            "only showing top 2 rows\n",
            "\n"
          ]
        }
      ]
    },
    {
      "cell_type": "code",
      "source": [
        "#converting float values to integer\n",
        "spark_df = spark_df.withColumn(\"age\", spark_df[\"age\"].cast(\"integer\"))\n",
        "spark_df = spark_df.withColumn(\"avg_glucose_level\", spark_df[\"avg_glucose_level\"].cast(\"integer\"))\n",
        "spark_df = spark_df.withColumn(\"bmi\", spark_df[\"bmi\"].cast(\"integer\"))"
      ],
      "metadata": {
        "id": "RxlhJ74ABBzo"
      },
      "execution_count": 81,
      "outputs": []
    },
    {
      "cell_type": "code",
      "source": [
        "spark_df.show(2)"
      ],
      "metadata": {
        "colab": {
          "base_uri": "https://localhost:8080/"
        },
        "id": "6_x139q2BB7Q",
        "outputId": "8ec22a5e-09bc-443d-8b33-fb4c486353ba"
      },
      "execution_count": 82,
      "outputs": [
        {
          "output_type": "stream",
          "name": "stdout",
          "text": [
            "+------+----+------------+-------------+------------+-------------+--------------+-----------------+---+---------------+------+-----------+-------+\n",
            "|gender| age|hypertension|heart_disease|ever_married|    work_type|Residence_type|avg_glucose_level|bmi| smoking_status|stroke|Blood&Heart|Obesity|\n",
            "+------+----+------------+-------------+------------+-------------+--------------+-----------------+---+---------------+------+-----------+-------+\n",
            "|  Male|NULL|           0|            1|         Yes|      Private|         Urban|              228| 36|formerly smoked|     1|          0|  8.208|\n",
            "|Female|NULL|           0|            0|         Yes|Self-employed|         Rural|              202| 28|   never smoked|     1|          0|  5.656|\n",
            "+------+----+------------+-------------+------------+-------------+--------------+-----------------+---+---------------+------+-----------+-------+\n",
            "only showing top 2 rows\n",
            "\n"
          ]
        }
      ]
    },
    {
      "cell_type": "code",
      "source": [
        "#Repalcing the values just like case statement in sql....\n",
        "spark_df=spark_df.withColumn('age',\n",
        "                    when(spark_df['age'] < 30, \"Adult\").\n",
        "                    when((spark_df['age'] > 30) & (spark_df['age'] < 40), \"MiddleAge\").\n",
        "                    otherwise(\"OldAge\"))"
      ],
      "metadata": {
        "id": "1v7DNaf0BF3a"
      },
      "execution_count": 83,
      "outputs": []
    },
    {
      "cell_type": "code",
      "source": [
        "spark_df.show(2)"
      ],
      "metadata": {
        "colab": {
          "base_uri": "https://localhost:8080/"
        },
        "id": "mORfMjHdBF66",
        "outputId": "859eb093-b7ee-408d-b6a5-11765b677f00"
      },
      "execution_count": 84,
      "outputs": [
        {
          "output_type": "stream",
          "name": "stdout",
          "text": [
            "+------+------+------------+-------------+------------+-------------+--------------+-----------------+---+---------------+------+-----------+-------+\n",
            "|gender|   age|hypertension|heart_disease|ever_married|    work_type|Residence_type|avg_glucose_level|bmi| smoking_status|stroke|Blood&Heart|Obesity|\n",
            "+------+------+------------+-------------+------------+-------------+--------------+-----------------+---+---------------+------+-----------+-------+\n",
            "|  Male|OldAge|           0|            1|         Yes|      Private|         Urban|              228| 36|formerly smoked|     1|          0|  8.208|\n",
            "|Female|OldAge|           0|            0|         Yes|Self-employed|         Rural|              202| 28|   never smoked|     1|          0|  5.656|\n",
            "+------+------+------------+-------------+------------+-------------+--------------+-----------------+---+---------------+------+-----------+-------+\n",
            "only showing top 2 rows\n",
            "\n"
          ]
        }
      ]
    },
    {
      "cell_type": "code",
      "source": [
        "#Converting categorical into Numerical variable...Using Label Encoding technique....\n",
        "#1.Age---columns\n",
        "indexer = StringIndexer(inputCol=\"age\", outputCol=\"age_label\")\n",
        "indexer.fit(spark_df).transform(spark_df).show(5)\n",
        "temp_sdf = indexer.fit(spark_df).transform(spark_df)\n",
        "spark_df = temp_sdf.withColumn(\"age\", temp_sdf[\"age_label\"].cast(\"integer\"))"
      ],
      "metadata": {
        "colab": {
          "base_uri": "https://localhost:8080/"
        },
        "id": "JDmgpBQ7BCAw",
        "outputId": "f4e72b4e-307c-43cd-d17c-30124fcc8b83"
      },
      "execution_count": 85,
      "outputs": [
        {
          "output_type": "stream",
          "name": "stdout",
          "text": [
            "+------+------+------------+-------------+------------+-------------+--------------+-----------------+---+---------------+------+-----------+-------+---------+\n",
            "|gender|   age|hypertension|heart_disease|ever_married|    work_type|Residence_type|avg_glucose_level|bmi| smoking_status|stroke|Blood&Heart|Obesity|age_label|\n",
            "+------+------+------------+-------------+------------+-------------+--------------+-----------------+---+---------------+------+-----------+-------+---------+\n",
            "|  Male|OldAge|           0|            1|         Yes|      Private|         Urban|              228| 36|formerly smoked|     1|          0|  8.208|      0.0|\n",
            "|Female|OldAge|           0|            0|         Yes|Self-employed|         Rural|              202| 28|   never smoked|     1|          0|  5.656|      0.0|\n",
            "|  Male|OldAge|           0|            1|         Yes|      Private|         Rural|              105| 32|   never smoked|     1|          0|   3.36|      0.0|\n",
            "|Female|OldAge|           0|            0|         Yes|      Private|         Urban|              171| 34|         smokes|     1|          0|  5.814|      0.0|\n",
            "|Female|OldAge|           1|            0|         Yes|Self-employed|         Rural|              174| 24|   never smoked|     1|          0|  4.176|      0.0|\n",
            "+------+------+------------+-------------+------------+-------------+--------------+-----------------+---+---------------+------+-----------+-------+---------+\n",
            "only showing top 5 rows\n",
            "\n"
          ]
        }
      ]
    },
    {
      "cell_type": "code",
      "source": [
        "#2.gender---columns\n",
        "indexer = StringIndexer(inputCol=\"gender\", outputCol=\"gender_label\")\n",
        "indexer.fit(spark_df).transform(spark_df).show(5)\n",
        "temp_sdf = indexer.fit(spark_df).transform(spark_df)\n",
        "spark_df = temp_sdf.withColumn(\"gender\", temp_sdf[\"gender_label\"].cast(\"integer\"))"
      ],
      "metadata": {
        "colab": {
          "base_uri": "https://localhost:8080/"
        },
        "id": "NjuVjAd8BCE5",
        "outputId": "b051f05c-a5ea-4f51-e1b6-fdf1615aa6a1"
      },
      "execution_count": 86,
      "outputs": [
        {
          "output_type": "stream",
          "name": "stdout",
          "text": [
            "+------+---+------------+-------------+------------+-------------+--------------+-----------------+---+---------------+------+-----------+-------+---------+------------+\n",
            "|gender|age|hypertension|heart_disease|ever_married|    work_type|Residence_type|avg_glucose_level|bmi| smoking_status|stroke|Blood&Heart|Obesity|age_label|gender_label|\n",
            "+------+---+------------+-------------+------------+-------------+--------------+-----------------+---+---------------+------+-----------+-------+---------+------------+\n",
            "|  Male|  0|           0|            1|         Yes|      Private|         Urban|              228| 36|formerly smoked|     1|          0|  8.208|      0.0|         1.0|\n",
            "|Female|  0|           0|            0|         Yes|Self-employed|         Rural|              202| 28|   never smoked|     1|          0|  5.656|      0.0|         0.0|\n",
            "|  Male|  0|           0|            1|         Yes|      Private|         Rural|              105| 32|   never smoked|     1|          0|   3.36|      0.0|         1.0|\n",
            "|Female|  0|           0|            0|         Yes|      Private|         Urban|              171| 34|         smokes|     1|          0|  5.814|      0.0|         0.0|\n",
            "|Female|  0|           1|            0|         Yes|Self-employed|         Rural|              174| 24|   never smoked|     1|          0|  4.176|      0.0|         0.0|\n",
            "+------+---+------------+-------------+------------+-------------+--------------+-----------------+---+---------------+------+-----------+-------+---------+------------+\n",
            "only showing top 5 rows\n",
            "\n"
          ]
        }
      ]
    },
    {
      "cell_type": "code",
      "source": [
        "#3.ever_married---columns\n",
        "indexer = StringIndexer(inputCol=\"ever_married\", outputCol=\"ever_married_label\")\n",
        "indexer.fit(spark_df).transform(spark_df).show(5)\n",
        "temp_sdf = indexer.fit(spark_df).transform(spark_df)\n",
        "spark_df = temp_sdf.withColumn(\"ever_married\", temp_sdf[\"ever_married_label\"].cast(\"integer\"))"
      ],
      "metadata": {
        "colab": {
          "base_uri": "https://localhost:8080/"
        },
        "id": "pUnyxS-qBCHp",
        "outputId": "fc19b6ae-d4a3-49ab-d14a-cd4424aed1e0"
      },
      "execution_count": 87,
      "outputs": [
        {
          "output_type": "stream",
          "name": "stdout",
          "text": [
            "+------+---+------------+-------------+------------+-------------+--------------+-----------------+---+---------------+------+-----------+-------+---------+------------+------------------+\n",
            "|gender|age|hypertension|heart_disease|ever_married|    work_type|Residence_type|avg_glucose_level|bmi| smoking_status|stroke|Blood&Heart|Obesity|age_label|gender_label|ever_married_label|\n",
            "+------+---+------------+-------------+------------+-------------+--------------+-----------------+---+---------------+------+-----------+-------+---------+------------+------------------+\n",
            "|     1|  0|           0|            1|         Yes|      Private|         Urban|              228| 36|formerly smoked|     1|          0|  8.208|      0.0|         1.0|               0.0|\n",
            "|     0|  0|           0|            0|         Yes|Self-employed|         Rural|              202| 28|   never smoked|     1|          0|  5.656|      0.0|         0.0|               0.0|\n",
            "|     1|  0|           0|            1|         Yes|      Private|         Rural|              105| 32|   never smoked|     1|          0|   3.36|      0.0|         1.0|               0.0|\n",
            "|     0|  0|           0|            0|         Yes|      Private|         Urban|              171| 34|         smokes|     1|          0|  5.814|      0.0|         0.0|               0.0|\n",
            "|     0|  0|           1|            0|         Yes|Self-employed|         Rural|              174| 24|   never smoked|     1|          0|  4.176|      0.0|         0.0|               0.0|\n",
            "+------+---+------------+-------------+------------+-------------+--------------+-----------------+---+---------------+------+-----------+-------+---------+------------+------------------+\n",
            "only showing top 5 rows\n",
            "\n"
          ]
        }
      ]
    },
    {
      "cell_type": "code",
      "source": [
        "#4.work_type---columns\n",
        "indexer = StringIndexer(inputCol=\"work_type\", outputCol=\"work_type_label\")\n",
        "indexer.fit(spark_df).transform(spark_df).show(5)\n",
        "temp_sdf = indexer.fit(spark_df).transform(spark_df)\n",
        "spark_df = temp_sdf.withColumn(\"work_type\", temp_sdf[\"work_type_label\"].cast(\"integer\"))"
      ],
      "metadata": {
        "colab": {
          "base_uri": "https://localhost:8080/"
        },
        "id": "-9gD1OdbB5R9",
        "outputId": "5942e1a9-7ef6-4e60-c29c-407f6edb2f36"
      },
      "execution_count": 88,
      "outputs": [
        {
          "output_type": "stream",
          "name": "stdout",
          "text": [
            "+------+---+------------+-------------+------------+-------------+--------------+-----------------+---+---------------+------+-----------+-------+---------+------------+------------------+---------------+\n",
            "|gender|age|hypertension|heart_disease|ever_married|    work_type|Residence_type|avg_glucose_level|bmi| smoking_status|stroke|Blood&Heart|Obesity|age_label|gender_label|ever_married_label|work_type_label|\n",
            "+------+---+------------+-------------+------------+-------------+--------------+-----------------+---+---------------+------+-----------+-------+---------+------------+------------------+---------------+\n",
            "|     1|  0|           0|            1|           0|      Private|         Urban|              228| 36|formerly smoked|     1|          0|  8.208|      0.0|         1.0|               0.0|            0.0|\n",
            "|     0|  0|           0|            0|           0|Self-employed|         Rural|              202| 28|   never smoked|     1|          0|  5.656|      0.0|         0.0|               0.0|            1.0|\n",
            "|     1|  0|           0|            1|           0|      Private|         Rural|              105| 32|   never smoked|     1|          0|   3.36|      0.0|         1.0|               0.0|            0.0|\n",
            "|     0|  0|           0|            0|           0|      Private|         Urban|              171| 34|         smokes|     1|          0|  5.814|      0.0|         0.0|               0.0|            0.0|\n",
            "|     0|  0|           1|            0|           0|Self-employed|         Rural|              174| 24|   never smoked|     1|          0|  4.176|      0.0|         0.0|               0.0|            1.0|\n",
            "+------+---+------------+-------------+------------+-------------+--------------+-----------------+---+---------------+------+-----------+-------+---------+------------+------------------+---------------+\n",
            "only showing top 5 rows\n",
            "\n"
          ]
        }
      ]
    },
    {
      "cell_type": "code",
      "source": [
        "#5.smoking_status---columns\n",
        "indexer = StringIndexer(inputCol=\"smoking_status\", outputCol=\"smoking_status_label\")\n",
        "indexer.fit(spark_df).transform(spark_df).show(5)\n",
        "temp_sdf = indexer.fit(spark_df).transform(spark_df)\n",
        "spark_df = temp_sdf.withColumn(\"smoking_status\", temp_sdf[\"smoking_status_label\"].cast(\"integer\"))"
      ],
      "metadata": {
        "colab": {
          "base_uri": "https://localhost:8080/"
        },
        "id": "MXoi5qw3B8sF",
        "outputId": "bcd281d5-b50b-4fdf-b600-b8a82ec70273"
      },
      "execution_count": 89,
      "outputs": [
        {
          "output_type": "stream",
          "name": "stdout",
          "text": [
            "+------+---+------------+-------------+------------+---------+--------------+-----------------+---+---------------+------+-----------+-------+---------+------------+------------------+---------------+--------------------+\n",
            "|gender|age|hypertension|heart_disease|ever_married|work_type|Residence_type|avg_glucose_level|bmi| smoking_status|stroke|Blood&Heart|Obesity|age_label|gender_label|ever_married_label|work_type_label|smoking_status_label|\n",
            "+------+---+------------+-------------+------------+---------+--------------+-----------------+---+---------------+------+-----------+-------+---------+------------+------------------+---------------+--------------------+\n",
            "|     1|  0|           0|            1|           0|        0|         Urban|              228| 36|formerly smoked|     1|          0|  8.208|      0.0|         1.0|               0.0|            0.0|                 2.0|\n",
            "|     0|  0|           0|            0|           0|        1|         Rural|              202| 28|   never smoked|     1|          0|  5.656|      0.0|         0.0|               0.0|            1.0|                 0.0|\n",
            "|     1|  0|           0|            1|           0|        0|         Rural|              105| 32|   never smoked|     1|          0|   3.36|      0.0|         1.0|               0.0|            0.0|                 0.0|\n",
            "|     0|  0|           0|            0|           0|        0|         Urban|              171| 34|         smokes|     1|          0|  5.814|      0.0|         0.0|               0.0|            0.0|                 3.0|\n",
            "|     0|  0|           1|            0|           0|        1|         Rural|              174| 24|   never smoked|     1|          0|  4.176|      0.0|         0.0|               0.0|            1.0|                 0.0|\n",
            "+------+---+------------+-------------+------------+---------+--------------+-----------------+---+---------------+------+-----------+-------+---------+------------+------------------+---------------+--------------------+\n",
            "only showing top 5 rows\n",
            "\n"
          ]
        }
      ]
    },
    {
      "cell_type": "code",
      "source": [
        "#6.Residence_type---columns\n",
        "indexer = StringIndexer(inputCol=\"Residence_type\", outputCol=\"Residence_type_label\")\n",
        "indexer.fit(spark_df).transform(spark_df).show(5)\n",
        "temp_sdf = indexer.fit(spark_df).transform(spark_df)\n",
        "spark_df = temp_sdf.withColumn(\"Residence_type\", temp_sdf[\"Residence_type_label\"].cast(\"integer\"))"
      ],
      "metadata": {
        "colab": {
          "base_uri": "https://localhost:8080/"
        },
        "id": "iOsTUEQ-CA60",
        "outputId": "b7c2a819-2dff-4ac0-b88f-5c7583f830fe"
      },
      "execution_count": 90,
      "outputs": [
        {
          "output_type": "stream",
          "name": "stdout",
          "text": [
            "+------+---+------------+-------------+------------+---------+--------------+-----------------+---+--------------+------+-----------+-------+---------+------------+------------------+---------------+--------------------+--------------------+\n",
            "|gender|age|hypertension|heart_disease|ever_married|work_type|Residence_type|avg_glucose_level|bmi|smoking_status|stroke|Blood&Heart|Obesity|age_label|gender_label|ever_married_label|work_type_label|smoking_status_label|Residence_type_label|\n",
            "+------+---+------------+-------------+------------+---------+--------------+-----------------+---+--------------+------+-----------+-------+---------+------------+------------------+---------------+--------------------+--------------------+\n",
            "|     1|  0|           0|            1|           0|        0|         Urban|              228| 36|             2|     1|          0|  8.208|      0.0|         1.0|               0.0|            0.0|                 2.0|                 0.0|\n",
            "|     0|  0|           0|            0|           0|        1|         Rural|              202| 28|             0|     1|          0|  5.656|      0.0|         0.0|               0.0|            1.0|                 0.0|                 1.0|\n",
            "|     1|  0|           0|            1|           0|        0|         Rural|              105| 32|             0|     1|          0|   3.36|      0.0|         1.0|               0.0|            0.0|                 0.0|                 1.0|\n",
            "|     0|  0|           0|            0|           0|        0|         Urban|              171| 34|             3|     1|          0|  5.814|      0.0|         0.0|               0.0|            0.0|                 3.0|                 0.0|\n",
            "|     0|  0|           1|            0|           0|        1|         Rural|              174| 24|             0|     1|          0|  4.176|      0.0|         0.0|               0.0|            1.0|                 0.0|                 1.0|\n",
            "+------+---+------------+-------------+------------+---------+--------------+-----------------+---+--------------+------+-----------+-------+---------+------------+------------------+---------------+--------------------+--------------------+\n",
            "only showing top 5 rows\n",
            "\n"
          ]
        }
      ]
    },
    {
      "cell_type": "code",
      "source": [
        "#Converting the dtype....\n",
        "spark_df = spark_df.withColumn(\"age_label\", spark_df[\"age_label\"].cast(\"integer\"))\n",
        "spark_df = spark_df.withColumn(\"gender_label\", spark_df[\"gender_label\"].cast(\"integer\"))\n",
        "spark_df = spark_df.withColumn(\"ever_married_label\", spark_df[\"ever_married_label\"].cast(\"integer\"))\n",
        "spark_df = spark_df.withColumn(\"work_type_label\", spark_df[\"work_type_label\"].cast(\"integer\"))\n",
        "spark_df = spark_df.withColumn(\"smoking_status_label\", spark_df[\"smoking_status_label\"].cast(\"integer\"))\n",
        "spark_df = spark_df.withColumn(\"Residence_type_label\", spark_df[\"Residence_type_label\"].cast(\"integer\"))"
      ],
      "metadata": {
        "id": "thDkC_63CHLd"
      },
      "execution_count": 91,
      "outputs": []
    },
    {
      "cell_type": "code",
      "source": [
        "#Dropping the redundant features...\n",
        "spark_df = spark_df.drop(\"age\",\"gender\",\"ever_married\",\"work_type\",\"smoking_status\",\"Residence_type\")\n",
        "spark_df.show(2)"
      ],
      "metadata": {
        "colab": {
          "base_uri": "https://localhost:8080/"
        },
        "id": "_Nc6vqvrCLHd",
        "outputId": "f795fbfb-9424-4be2-fe7b-0deee60ce0b5"
      },
      "execution_count": 92,
      "outputs": [
        {
          "output_type": "stream",
          "name": "stdout",
          "text": [
            "+------------+-------------+-----------------+---+------+-----------+-------+---------+------------+------------------+---------------+--------------------+--------------------+\n",
            "|hypertension|heart_disease|avg_glucose_level|bmi|stroke|Blood&Heart|Obesity|age_label|gender_label|ever_married_label|work_type_label|smoking_status_label|Residence_type_label|\n",
            "+------------+-------------+-----------------+---+------+-----------+-------+---------+------------+------------------+---------------+--------------------+--------------------+\n",
            "|           0|            1|              228| 36|     1|          0|  8.208|        0|           1|                 0|              0|                   2|                   0|\n",
            "|           0|            0|              202| 28|     1|          0|  5.656|        0|           0|                 0|              1|                   0|                   1|\n",
            "+------------+-------------+-----------------+---+------+-----------+-------+---------+------------+------------------+---------------+--------------------+--------------------+\n",
            "only showing top 2 rows\n",
            "\n"
          ]
        }
      ]
    },
    {
      "cell_type": "code",
      "source": [
        "#Check the list of the columns\n",
        "spark_df.columns\n"
      ],
      "metadata": {
        "colab": {
          "base_uri": "https://localhost:8080/"
        },
        "id": "pt2Sui-RCORr",
        "outputId": "28749f99-53e7-4840-e34d-c9d1725f7dd2"
      },
      "execution_count": 93,
      "outputs": [
        {
          "output_type": "execute_result",
          "data": {
            "text/plain": [
              "['hypertension',\n",
              " 'heart_disease',\n",
              " 'avg_glucose_level',\n",
              " 'bmi',\n",
              " 'stroke',\n",
              " 'Blood&Heart',\n",
              " 'Obesity',\n",
              " 'age_label',\n",
              " 'gender_label',\n",
              " 'ever_married_label',\n",
              " 'work_type_label',\n",
              " 'smoking_status_label',\n",
              " 'Residence_type_label']"
            ]
          },
          "metadata": {},
          "execution_count": 93
        }
      ]
    },
    {
      "cell_type": "code",
      "source": [
        "#Rearrangement of the columns...\n",
        "spark_df=spark_df[[\"gender_label\",\"age_label\",\"hypertension\",\"heart_disease\",\"ever_married_label\",\"work_type_label\",\"Residence_type_label\",\"avg_glucose_level\",\"bmi\",\"smoking_status_label\",\"stroke\"]]"
      ],
      "metadata": {
        "id": "pH_arPv_CTcU"
      },
      "execution_count": 94,
      "outputs": []
    },
    {
      "cell_type": "code",
      "source": [
        "spark_df.show(2)"
      ],
      "metadata": {
        "colab": {
          "base_uri": "https://localhost:8080/"
        },
        "id": "cp1_9rbOCUfs",
        "outputId": "96757fed-44c2-41a7-a31a-41a7e6ca9c21"
      },
      "execution_count": 95,
      "outputs": [
        {
          "output_type": "stream",
          "name": "stdout",
          "text": [
            "+------------+---------+------------+-------------+------------------+---------------+--------------------+-----------------+---+--------------------+------+\n",
            "|gender_label|age_label|hypertension|heart_disease|ever_married_label|work_type_label|Residence_type_label|avg_glucose_level|bmi|smoking_status_label|stroke|\n",
            "+------------+---------+------------+-------------+------------------+---------------+--------------------+-----------------+---+--------------------+------+\n",
            "|           1|        0|           0|            1|                 0|              0|                   0|              228| 36|                   2|     1|\n",
            "|           0|        0|           0|            0|                 0|              1|                   1|              202| 28|                   0|     1|\n",
            "+------------+---------+------------+-------------+------------------+---------------+--------------------+-----------------+---+--------------------+------+\n",
            "only showing top 2 rows\n",
            "\n"
          ]
        }
      ]
    },
    {
      "cell_type": "markdown",
      "source": [
        "Since our dataset has more 0 values ,the ml model would get biased towards 0 label,so to avoid that we are balancing it by finding the ratio and duplicating the rows."
      ],
      "metadata": {
        "id": "aH2CdLpc_GjI"
      }
    },
    {
      "cell_type": "code",
      "source": [
        "classs = spark_df.groupBy('stroke').count().collect()\n",
        "majority = max(classs, key=lambda x: x[1])[0]\n",
        "minority = min(classs, key=lambda x: x[1])[0]\n",
        "majority_count = max(classs, key=lambda x: x[1])[1]\n",
        "minority_count = min(classs, key=lambda x: x[1])[1]\n",
        "ratio = majority_count / minority_count\n",
        "majority_df = spark_df.filter(col('stroke') == majority)\n",
        "minority_df = spark_df.filter(col('stroke') == minority)\n",
        "minority_df_balanced = minority_df.withColumn(\"dummy\", explode(array([lit(x) for x in range(int(ratio))]))).drop('dummy')\n",
        "balanced_df = majority_df.unionAll(minority_df_balanced)\n",
        "\n",
        "\n",
        "\n",
        "\n"
      ],
      "metadata": {
        "id": "KLaHjpy38lWM"
      },
      "execution_count": 96,
      "outputs": []
    },
    {
      "cell_type": "code",
      "source": [
        "import matplotlib.pyplot as plt\n",
        "import pandas as pd\n",
        "\n",
        "# Before balancing\n",
        "spark_df.groupBy(\"stroke\").count().toPandas().plot(kind='bar', x='stroke', y='count', legend=False)\n",
        "plt.title(\"Class Distribution Before Balancing\")\n",
        "plt.xlabel(\"Stroke Label\")\n",
        "plt.ylabel(\"Count\")\n",
        "plt.tight_layout()\n",
        "plt.savefig(\"class_distribution_before.png\")\n",
        "plt.show()\n",
        "\n",
        "# After balancing\n",
        "balanced_df.groupBy(\"stroke\").count().toPandas().plot(kind='bar', x='stroke', y='count', legend=False)\n",
        "plt.title(\"Class Distribution After Balancing\")\n",
        "plt.xlabel(\"Stroke Label\")\n",
        "plt.ylabel(\"Count\")\n",
        "plt.tight_layout()\n",
        "plt.savefig(\"class_distribution_after.png\")\n",
        "plt.show()\n"
      ],
      "metadata": {
        "colab": {
          "base_uri": "https://localhost:8080/",
          "height": 957
        },
        "id": "hNHPBLm4rj1-",
        "outputId": "2e64407a-49a9-4e1c-84fa-6b11465ed60f"
      },
      "execution_count": 97,
      "outputs": [
        {
          "output_type": "display_data",
          "data": {
            "text/plain": [
              "<Figure size 640x480 with 1 Axes>"
            ],
            "image/png": "[encoded data removed]"
          },
          "metadata": {}
        },
        {
          "output_type": "display_data",
          "data": {
            "text/plain": [
              "<Figure size 640x480 with 1 Axes>"
            ],
            "image/png": "[encoded data removed]"
          },
          "metadata": {}
        }
      ]
    },
    {
      "cell_type": "code",
      "source": [
        "balanced_df = balanced_df.orderBy(rand())\n",
        "balanced_df.show(5)\n",
        "unique_values_count = balanced_df.groupby('stroke').count().orderBy('count', ascending=False)\n",
        "unique_values_count.show()\n",
        "\n",
        "\n",
        "print(\"Number of unique values:\", unique_values_count)"
      ],
      "metadata": {
        "colab": {
          "base_uri": "https://localhost:8080/"
        },
        "id": "DAvlqwSErh1C",
        "outputId": "a97ff2a9-d890-4bdb-be76-c1d4353f24cb"
      },
      "execution_count": 115,
      "outputs": [
        {
          "output_type": "stream",
          "name": "stdout",
          "text": [
            "+------------+---------+------------+-------------+------------------+---------------+--------------------+-----------------+---+--------------------+------+\n",
            "|gender_label|age_label|hypertension|heart_disease|ever_married_label|work_type_label|Residence_type_label|avg_glucose_level|bmi|smoking_status_label|stroke|\n",
            "+------------+---------+------------+-------------+------------------+---------------+--------------------+-----------------+---+--------------------+------+\n",
            "|           1|        0|           0|            0|                 0|              0|                   1|              233| 42|                   0|     1|\n",
            "|           0|        0|           0|            0|                 1|              2|                   1|              104| 28|                   1|     0|\n",
            "|           1|        0|           0|            0|                 0|              1|                   0|               77| 27|                   3|     1|\n",
            "|           0|        0|           0|            0|                 0|              3|                   0|              197| 28|                   0|     1|\n",
            "|           0|        0|           0|            0|                 0|              0|                   1|              154| 17|                   0|     0|\n",
            "+------------+---------+------------+-------------+------------------+---------------+--------------------+-----------------+---+--------------------+------+\n",
            "only showing top 5 rows\n",
            "\n",
            "+------+-----+\n",
            "|stroke|count|\n",
            "+------+-----+\n",
            "|     0| 4861|\n",
            "|     1| 4731|\n",
            "+------+-----+\n",
            "\n",
            "Number of unique values: DataFrame[stroke: int, count: bigint]\n"
          ]
        }
      ]
    },
    {
      "cell_type": "markdown",
      "source": [
        "splitting the train and test data\n",
        "doing vector assembler for creating as a vector for features"
      ],
      "metadata": {
        "id": "kgGwOWYac2He"
      }
    },
    {
      "cell_type": "code",
      "source": [
        "(train_data1, test_data1) = spark_df.randomSplit([0.8, 0.2], seed=1)\n",
        "(train_data2,test_data2)=balanced_df.randomSplit([0.8,0.2],seed=1)\n",
        "feature_cols = spark_df.columns[:-1]\n",
        "assembler = VectorAssembler(inputCols=feature_cols, outputCol=\"features\")\n",
        "train_data1 = assembler.transform(train_data1)\n",
        "test_data1 = assembler.transform(test_data1)\n",
        "train_data2 = assembler.transform(train_data2)\n",
        "test_data2 = assembler.transform(test_data2)\n",
        "\n",
        "\n",
        "\n"
      ],
      "metadata": {
        "id": "ap6GbxFBCXJ0"
      },
      "execution_count": 116,
      "outputs": []
    },
    {
      "cell_type": "markdown",
      "source": [
        "Random Forest Model"
      ],
      "metadata": {
        "id": "xFBGCA-fc14u"
      }
    },
    {
      "cell_type": "code",
      "source": [
        "\n",
        "rf1 = RandomForestClassifier(labelCol=\"stroke\", featuresCol=\"features\")\n",
        "rf_model1 = rf1.fit(train_data1)\n",
        "rf_predictions1 = rf_model1.transform(test_data1)\n",
        "rf_predictions1.show()\n",
        "\n",
        "\n",
        "rf2= RandomForestClassifier(labelCol=\"stroke\", featuresCol=\"features\")\n",
        "rf_model2 = rf2.fit(train_data2)\n",
        "rf_predictions2 = rf_model2.transform(test_data2)\n",
        "rf_predictions2.show()"
      ],
      "metadata": {
        "colab": {
          "base_uri": "https://localhost:8080/"
        },
        "id": "RQ8jit8kc1UH",
        "outputId": "9a49a465-15c5-406f-bff1-927471780512"
      },
      "execution_count": 117,
      "outputs": [
        {
          "output_type": "stream",
          "name": "stdout",
          "text": [
            "+------------+---------+------------+-------------+------------------+---------------+--------------------+-----------------+---+--------------------+------+--------------------+--------------------+--------------------+----------+\n",
            "|gender_label|age_label|hypertension|heart_disease|ever_married_label|work_type_label|Residence_type_label|avg_glucose_level|bmi|smoking_status_label|stroke|            features|       rawPrediction|         probability|prediction|\n",
            "+------------+---------+------------+-------------+------------------+---------------+--------------------+-----------------+---+--------------------+------+--------------------+--------------------+--------------------+----------+\n",
            "|           0|        0|           0|            0|                 0|              0|                   0|               55| 43|                   0|     0|(10,[7,8],[55.0,4...|[19.0593076598718...|[0.95296538299359...|       0.0|\n",
            "|           0|        0|           0|            0|                 0|              0|                   0|               57| 41|                   0|     0|(10,[7,8],[57.0,4...|[19.0593076598718...|[0.95296538299359...|       0.0|\n",
            "|           0|        0|           0|            0|                 0|              0|                   0|               57| 53|                   2|     0|(10,[7,8,9],[57.0...|[18.9961528272537...|[0.94980764136268...|       0.0|\n",
            "|           0|        0|           0|            0|                 0|              0|                   0|               58| 23|                   0|     0|(10,[7,8],[58.0,2...|[19.3188784723927...|[0.96594392361963...|       0.0|\n",
            "|           0|        0|           0|            0|                 0|              0|                   0|               58| 33|                   0|     0|(10,[7,8],[58.0,3...|[19.0593076598718...|[0.95296538299359...|       0.0|\n",
            "|           0|        0|           0|            0|                 0|              0|                   0|               60| 35|                   2|     0|(10,[7,8,9],[60.0...|[18.9961528272537...|[0.94980764136268...|       0.0|\n",
            "|           0|        0|           0|            0|                 0|              0|                   0|               62| 23|                   2|     0|(10,[7,8,9],[62.0...|[19.2557236397746...|[0.96278618198873...|       0.0|\n",
            "|           0|        0|           0|            0|                 0|              0|                   0|               62| 23|                   3|     0|(10,[7,8,9],[62.0...|[19.2557236397746...|[0.96278618198873...|       0.0|\n",
            "|           0|        0|           0|            0|                 0|              0|                   0|               64| 27|                   0|     0|(10,[7,8],[64.0,2...|[19.0593076598718...|[0.95296538299359...|       0.0|\n",
            "|           0|        0|           0|            0|                 0|              0|                   0|               65| 17|                   2|     0|(10,[7,8,9],[65.0...|[19.2557236397746...|[0.96278618198873...|       0.0|\n",
            "|           0|        0|           0|            0|                 0|              0|                   0|               65| 30|                   0|     0|(10,[7,8],[65.0,3...|[19.0593076598718...|[0.95296538299359...|       0.0|\n",
            "|           0|        0|           0|            0|                 0|              0|                   0|               65| 32|                   0|     0|(10,[7,8],[65.0,3...|[19.0593076598718...|[0.95296538299359...|       0.0|\n",
            "|           0|        0|           0|            0|                 0|              0|                   0|               65| 39|                   0|     0|(10,[7,8],[65.0,3...|[19.0593076598718...|[0.95296538299359...|       0.0|\n",
            "|           0|        0|           0|            0|                 0|              0|                   0|               67| 24|                   2|     0|(10,[7,8,9],[67.0...|[19.0889657025518...|[0.95444828512759...|       0.0|\n",
            "|           0|        0|           0|            0|                 0|              0|                   0|               69| 20|                   0|     0|(10,[7,8],[69.0,2...|[19.3188784723927...|[0.96594392361963...|       0.0|\n",
            "|           0|        0|           0|            0|                 0|              0|                   0|               69| 24|                   0|     0|(10,[7,8],[69.0,2...|[19.1521205351699...|[0.95760602675849...|       0.0|\n",
            "|           0|        0|           0|            0|                 0|              0|                   0|               70| 28|                   3|     0|(10,[7,8,9],[70.0...|[18.9961528272537...|[0.94980764136268...|       0.0|\n",
            "|           0|        0|           0|            0|                 0|              0|                   0|               70| 35|                   1|     0|(10,[7,8,9],[70.0...|[19.0593076598718...|[0.95296538299359...|       0.0|\n",
            "|           0|        0|           0|            0|                 0|              0|                   0|               71| 22|                   1|     0|(10,[7,8,9],[71.0...|[19.3188784723927...|[0.96594392361963...|       0.0|\n",
            "|           0|        0|           0|            0|                 0|              0|                   0|               71| 28|                   3|     0|(10,[7,8,9],[71.0...|[18.9961528272537...|[0.94980764136268...|       0.0|\n",
            "+------------+---------+------------+-------------+------------------+---------------+--------------------+-----------------+---+--------------------+------+--------------------+--------------------+--------------------+----------+\n",
            "only showing top 20 rows\n",
            "\n",
            "+------------+---------+------------+-------------+------------------+---------------+--------------------+-----------------+---+--------------------+------+--------------------+--------------------+--------------------+----------+\n",
            "|gender_label|age_label|hypertension|heart_disease|ever_married_label|work_type_label|Residence_type_label|avg_glucose_level|bmi|smoking_status_label|stroke|            features|       rawPrediction|         probability|prediction|\n",
            "+------------+---------+------------+-------------+------------------+---------------+--------------------+-----------------+---+--------------------+------+--------------------+--------------------+--------------------+----------+\n",
            "|           0|        0|           0|            0|                 0|              0|                   0|               55| 43|                   0|     0|(10,[7,8],[55.0,4...|[11.8616760396237...|[0.59308380198118...|       0.0|\n",
            "|           0|        0|           0|            0|                 0|              0|                   0|               57| 28|                   2|     1|(10,[7,8,9],[57.0...|[9.71252503669183...|[0.48562625183459...|       1.0|\n",
            "|           0|        0|           0|            0|                 0|              0|                   0|               57| 28|                   2|     1|(10,[7,8,9],[57.0...|[9.71252503669183...|[0.48562625183459...|       1.0|\n",
            "|           0|        0|           0|            0|                 0|              0|                   0|               57| 28|                   2|     1|(10,[7,8,9],[57.0...|[9.71252503669183...|[0.48562625183459...|       1.0|\n",
            "|           0|        0|           0|            0|                 0|              0|                   0|               57| 28|                   2|     1|(10,[7,8,9],[57.0...|[9.71252503669183...|[0.48562625183459...|       1.0|\n",
            "|           0|        0|           0|            0|                 0|              0|                   0|               57| 30|                   2|     0|(10,[7,8,9],[57.0...|[9.71252503669183...|[0.48562625183459...|       1.0|\n",
            "|           0|        0|           0|            0|                 0|              0|                   0|               57| 53|                   2|     0|(10,[7,8,9],[57.0...|[11.6054826204223...|[0.58027413102111...|       0.0|\n",
            "|           0|        0|           0|            0|                 0|              0|                   0|               58| 23|                   0|     0|(10,[7,8],[58.0,2...|[11.6656589834651...|[0.58328294917325...|       0.0|\n",
            "|           0|        0|           0|            0|                 0|              0|                   0|               58| 24|                   1|     1|(10,[7,8,9],[58.0...|[11.267449435047,...|[0.56337247175235...|       0.0|\n",
            "|           0|        0|           0|            0|                 0|              0|                   0|               58| 24|                   1|     1|(10,[7,8,9],[58.0...|[11.267449435047,...|[0.56337247175235...|       0.0|\n",
            "|           0|        0|           0|            0|                 0|              0|                   0|               58| 24|                   1|     1|(10,[7,8,9],[58.0...|[11.267449435047,...|[0.56337247175235...|       0.0|\n",
            "|           0|        0|           0|            0|                 0|              0|                   0|               59| 22|                   0|     0|(10,[7,8],[59.0,2...|[11.6656589834651...|[0.58328294917325...|       0.0|\n",
            "|           0|        0|           0|            0|                 0|              0|                   0|               60| 24|                   0|     0|(10,[7,8],[60.0,2...|[11.267449435047,...|[0.56337247175235...|       0.0|\n",
            "|           0|        0|           0|            0|                 0|              0|                   0|               60| 29|                   0|     1|(10,[7,8],[60.0,2...|[10.4641539013877...|[0.52320769506938...|       0.0|\n",
            "|           0|        0|           0|            0|                 0|              0|                   0|               60| 29|                   0|     1|(10,[7,8],[60.0,2...|[10.4641539013877...|[0.52320769506938...|       0.0|\n",
            "|           0|        0|           0|            0|                 0|              0|                   0|               60| 29|                   0|     1|(10,[7,8],[60.0,2...|[10.4641539013877...|[0.52320769506938...|       0.0|\n",
            "|           0|        0|           0|            0|                 0|              0|                   0|               60| 35|                   2|     0|(10,[7,8,9],[60.0...|[11.3050975113081...|[0.56525487556540...|       0.0|\n",
            "|           0|        0|           0|            0|                 0|              0|                   0|               61| 25|                   1|     0|(10,[7,8,9],[61.0...|[11.267449435047,...|[0.56337247175235...|       0.0|\n",
            "|           0|        0|           0|            0|                 0|              0|                   0|               62| 26|                   0|     0|(10,[7,8],[62.0,2...|[10.9467364894565...|[0.54733682447282...|       0.0|\n",
            "|           0|        0|           0|            0|                 0|              0|                   0|               63| 33|                   3|     0|(10,[7,8,9],[63.0...|[11.4658463265899...|[0.57329231632949...|       0.0|\n",
            "+------------+---------+------------+-------------+------------------+---------------+--------------------+-----------------+---+--------------------+------+--------------------+--------------------+--------------------+----------+\n",
            "only showing top 20 rows\n",
            "\n"
          ]
        }
      ]
    },
    {
      "cell_type": "markdown",
      "source": [
        "Random Forest Model Evaluation"
      ],
      "metadata": {
        "id": "ru62UL3A7xXa"
      }
    },
    {
      "cell_type": "code",
      "source": [
        "evaluator = MulticlassClassificationEvaluator(labelCol=\"stroke\", predictionCol=\"prediction\", metricName=\"accuracy\")\n",
        "accuracy1 = evaluator.evaluate(rf_predictions1)\n",
        "\n",
        "print(\"Original Dataset Evaluation Metrics\")\n",
        "print(f\" Accuracy= {accuracy1}\")\n",
        "f11= evaluator.setMetricName(\"f1\").evaluate(rf_predictions1)\n",
        "precision1 = evaluator.setMetricName(\"weightedPrecision\").evaluate(rf_predictions1)\n",
        "recall1 = evaluator.setMetricName(\"weightedRecall\").evaluate(rf_predictions1)\n",
        "print(f\"Test F1 Score = {f11}\")\n",
        "print(f\"Test Precision = {precision1}\")\n",
        "print(f\"Test Recall = {recall1}\")\n",
        "predictionAndLabels1 = rf_predictions1.select(\"prediction\", \"stroke\").rdd.map(lambda row: (float(row[0]), float(row[1])))\n",
        "metrics1 = MulticlassMetrics(predictionAndLabels1)\n",
        "confusion_matrix1 = metrics1.confusionMatrix()\n",
        "print(\"Confusion Matrix for original datset:\")\n",
        "print(confusion_matrix1)\n",
        "\n",
        "print(\"Balanced Dataset Evaluation Metrics\")\n",
        "accuracy2 = evaluator.evaluate(rf_predictions2)\n",
        "print(f\"Test Accuracy for original dataset= {accuracy2}\")\n",
        "f12= evaluator.setMetricName(\"f1\").evaluate(rf_predictions2)\n",
        "precision2 = evaluator.setMetricName(\"weightedPrecision\").evaluate(rf_predictions2)\n",
        "recall2 = evaluator.setMetricName(\"weightedRecall\").evaluate(rf_predictions2)\n",
        "print(f\"Test F1 Score = {f12}\")\n",
        "print(f\"Test Precision = {precision2}\")\n",
        "print(f\"Test Recall = {recall2}\")\n",
        "\n",
        "predictionAndLabels2 = rf_predictions2.select(\"prediction\", \"stroke\").rdd.map(lambda row: (float(row[0]), float(row[1])))\n",
        "metrics2 = MulticlassMetrics(predictionAndLabels2)\n",
        "confusion_matrix2 = metrics2.confusionMatrix()\n",
        "print(\"Confusion Matrix :\")\n",
        "print(confusion_matrix2)\n",
        "\n"
      ],
      "metadata": {
        "colab": {
          "base_uri": "https://localhost:8080/"
        },
        "id": "O5GomerFnzV4",
        "outputId": "22cdbefa-96b8-4c15-c122-4145cc9b747d"
      },
      "execution_count": 118,
      "outputs": [
        {
          "output_type": "stream",
          "name": "stdout",
          "text": [
            "Original Dataset Evaluation Metrics\n",
            " Accuracy= 0.9591642924976258\n",
            "Test F1 Score = 0.9391720168905497\n",
            "Test Precision = 0.9199961400024711\n",
            "Test Recall = 0.9591642924976258\n",
            "Confusion Matrix for original datset:\n",
            "DenseMatrix([[1010.,    0.],\n",
            "             [  43.,    0.]])\n",
            "Balanced Dataset Evaluation Metrics\n",
            "Test Accuracy for original dataset= 0.7289029535864979\n",
            "Test F1 Score = 0.7281168817770484\n",
            "Test Precision = 0.7293331742008313\n",
            "Test Recall = 0.7289029535864979\n",
            "Confusion Matrix :\n",
            "DenseMatrix([[765., 222.],\n",
            "             [292., 617.]])\n"
          ]
        }
      ]
    },
    {
      "cell_type": "markdown",
      "source": [
        "Decision Tree"
      ],
      "metadata": {
        "id": "9lHx9RGk76Bb"
      }
    },
    {
      "cell_type": "code",
      "source": [
        "dt = DecisionTreeClassifier(labelCol=\"stroke\", featuresCol=\"features\")\n",
        "dt_model1 = dt.fit(train_data1)\n",
        "dt_predictions1 = dt_model1.transform(test_data1)\n",
        "print(\"Original Dataset\")\n",
        "dt_predictions1.show()\n",
        "\n",
        "dt_model2 = dt.fit(train_data2)\n",
        "dt_predictions2= dt_model2.transform(test_data2)\n",
        "print(\"Balanced Dataset\")\n",
        "dt_predictions2.show()"
      ],
      "metadata": {
        "colab": {
          "base_uri": "https://localhost:8080/"
        },
        "id": "6386Pf87eJrU",
        "outputId": "4a1ba3f3-8315-41cc-ed6c-d3a6d75c1127"
      },
      "execution_count": 119,
      "outputs": [
        {
          "output_type": "stream",
          "name": "stdout",
          "text": [
            "Original Dataset\n",
            "+------------+---------+------------+-------------+------------------+---------------+--------------------+-----------------+---+--------------------+------+--------------------+--------------+--------------------+----------+\n",
            "|gender_label|age_label|hypertension|heart_disease|ever_married_label|work_type_label|Residence_type_label|avg_glucose_level|bmi|smoking_status_label|stroke|            features| rawPrediction|         probability|prediction|\n",
            "+------------+---------+------------+-------------+------------------+---------------+--------------------+-----------------+---+--------------------+------+--------------------+--------------+--------------------+----------+\n",
            "|           0|        0|           0|            0|                 0|              0|                   0|               55| 43|                   0|     0|(10,[7,8],[55.0,4...|[1988.0,101.0]|[0.95165150789851...|       0.0|\n",
            "|           0|        0|           0|            0|                 0|              0|                   0|               57| 41|                   0|     0|(10,[7,8],[57.0,4...|[1988.0,101.0]|[0.95165150789851...|       0.0|\n",
            "|           0|        0|           0|            0|                 0|              0|                   0|               57| 53|                   2|     0|(10,[7,8,9],[57.0...|[1988.0,101.0]|[0.95165150789851...|       0.0|\n",
            "|           0|        0|           0|            0|                 0|              0|                   0|               58| 23|                   0|     0|(10,[7,8],[58.0,2...|[1988.0,101.0]|[0.95165150789851...|       0.0|\n",
            "|           0|        0|           0|            0|                 0|              0|                   0|               58| 33|                   0|     0|(10,[7,8],[58.0,3...|[1988.0,101.0]|[0.95165150789851...|       0.0|\n",
            "|           0|        0|           0|            0|                 0|              0|                   0|               60| 35|                   2|     0|(10,[7,8,9],[60.0...|[1988.0,101.0]|[0.95165150789851...|       0.0|\n",
            "|           0|        0|           0|            0|                 0|              0|                   0|               62| 23|                   2|     0|(10,[7,8,9],[62.0...|[1988.0,101.0]|[0.95165150789851...|       0.0|\n",
            "|           0|        0|           0|            0|                 0|              0|                   0|               62| 23|                   3|     0|(10,[7,8,9],[62.0...|[1988.0,101.0]|[0.95165150789851...|       0.0|\n",
            "|           0|        0|           0|            0|                 0|              0|                   0|               64| 27|                   0|     0|(10,[7,8],[64.0,2...|[1988.0,101.0]|[0.95165150789851...|       0.0|\n",
            "|           0|        0|           0|            0|                 0|              0|                   0|               65| 17|                   2|     0|(10,[7,8,9],[65.0...|[1988.0,101.0]|[0.95165150789851...|       0.0|\n",
            "|           0|        0|           0|            0|                 0|              0|                   0|               65| 30|                   0|     0|(10,[7,8],[65.0,3...|[1988.0,101.0]|[0.95165150789851...|       0.0|\n",
            "|           0|        0|           0|            0|                 0|              0|                   0|               65| 32|                   0|     0|(10,[7,8],[65.0,3...|[1988.0,101.0]|[0.95165150789851...|       0.0|\n",
            "|           0|        0|           0|            0|                 0|              0|                   0|               65| 39|                   0|     0|(10,[7,8],[65.0,3...|[1988.0,101.0]|[0.95165150789851...|       0.0|\n",
            "|           0|        0|           0|            0|                 0|              0|                   0|               67| 24|                   2|     0|(10,[7,8,9],[67.0...|[1988.0,101.0]|[0.95165150789851...|       0.0|\n",
            "|           0|        0|           0|            0|                 0|              0|                   0|               69| 20|                   0|     0|(10,[7,8],[69.0,2...|[1988.0,101.0]|[0.95165150789851...|       0.0|\n",
            "|           0|        0|           0|            0|                 0|              0|                   0|               69| 24|                   0|     0|(10,[7,8],[69.0,2...|[1988.0,101.0]|[0.95165150789851...|       0.0|\n",
            "|           0|        0|           0|            0|                 0|              0|                   0|               70| 28|                   3|     0|(10,[7,8,9],[70.0...|[1988.0,101.0]|[0.95165150789851...|       0.0|\n",
            "|           0|        0|           0|            0|                 0|              0|                   0|               70| 35|                   1|     0|(10,[7,8,9],[70.0...|[1988.0,101.0]|[0.95165150789851...|       0.0|\n",
            "|           0|        0|           0|            0|                 0|              0|                   0|               71| 22|                   1|     0|(10,[7,8,9],[71.0...|[1988.0,101.0]|[0.95165150789851...|       0.0|\n",
            "|           0|        0|           0|            0|                 0|              0|                   0|               71| 28|                   3|     0|(10,[7,8,9],[71.0...|[1988.0,101.0]|[0.95165150789851...|       0.0|\n",
            "+------------+---------+------------+-------------+------------------+---------------+--------------------+-----------------+---+--------------------+------+--------------------+--------------+--------------------+----------+\n",
            "only showing top 20 rows\n",
            "\n",
            "Balanced Dataset\n",
            "+------------+---------+------------+-------------+------------------+---------------+--------------------+-----------------+---+--------------------+------+--------------------+-------------+--------------------+----------+\n",
            "|gender_label|age_label|hypertension|heart_disease|ever_married_label|work_type_label|Residence_type_label|avg_glucose_level|bmi|smoking_status_label|stroke|            features|rawPrediction|         probability|prediction|\n",
            "+------------+---------+------------+-------------+------------------+---------------+--------------------+-----------------+---+--------------------+------+--------------------+-------------+--------------------+----------+\n",
            "|           0|        0|           0|            0|                 0|              0|                   0|               55| 43|                   0|     0|(10,[7,8],[55.0,4...|[486.0,180.0]|[0.72972972972972...|       0.0|\n",
            "|           0|        0|           0|            0|                 0|              0|                   0|               57| 28|                   2|     1|(10,[7,8,9],[57.0...|[616.0,857.0]|[0.41819416157501...|       1.0|\n",
            "|           0|        0|           0|            0|                 0|              0|                   0|               57| 28|                   2|     1|(10,[7,8,9],[57.0...|[616.0,857.0]|[0.41819416157501...|       1.0|\n",
            "|           0|        0|           0|            0|                 0|              0|                   0|               57| 28|                   2|     1|(10,[7,8,9],[57.0...|[616.0,857.0]|[0.41819416157501...|       1.0|\n",
            "|           0|        0|           0|            0|                 0|              0|                   0|               57| 28|                   2|     1|(10,[7,8,9],[57.0...|[616.0,857.0]|[0.41819416157501...|       1.0|\n",
            "|           0|        0|           0|            0|                 0|              0|                   0|               57| 30|                   2|     0|(10,[7,8,9],[57.0...|[616.0,857.0]|[0.41819416157501...|       1.0|\n",
            "|           0|        0|           0|            0|                 0|              0|                   0|               57| 53|                   2|     0|(10,[7,8,9],[57.0...|[486.0,180.0]|[0.72972972972972...|       0.0|\n",
            "|           0|        0|           0|            0|                 0|              0|                   0|               58| 23|                   0|     0|(10,[7,8],[58.0,2...|[786.0,660.0]|[0.54356846473029...|       0.0|\n",
            "|           0|        0|           0|            0|                 0|              0|                   0|               58| 24|                   1|     1|(10,[7,8,9],[58.0...|[786.0,660.0]|[0.54356846473029...|       0.0|\n",
            "|           0|        0|           0|            0|                 0|              0|                   0|               58| 24|                   1|     1|(10,[7,8,9],[58.0...|[786.0,660.0]|[0.54356846473029...|       0.0|\n",
            "|           0|        0|           0|            0|                 0|              0|                   0|               58| 24|                   1|     1|(10,[7,8,9],[58.0...|[786.0,660.0]|[0.54356846473029...|       0.0|\n",
            "|           0|        0|           0|            0|                 0|              0|                   0|               59| 22|                   0|     0|(10,[7,8],[59.0,2...|[786.0,660.0]|[0.54356846473029...|       0.0|\n",
            "|           0|        0|           0|            0|                 0|              0|                   0|               60| 24|                   0|     0|(10,[7,8],[60.0,2...|[786.0,660.0]|[0.54356846473029...|       0.0|\n",
            "|           0|        0|           0|            0|                 0|              0|                   0|               60| 29|                   0|     1|(10,[7,8],[60.0,2...|[616.0,857.0]|[0.41819416157501...|       1.0|\n",
            "|           0|        0|           0|            0|                 0|              0|                   0|               60| 29|                   0|     1|(10,[7,8],[60.0,2...|[616.0,857.0]|[0.41819416157501...|       1.0|\n",
            "|           0|        0|           0|            0|                 0|              0|                   0|               60| 29|                   0|     1|(10,[7,8],[60.0,2...|[616.0,857.0]|[0.41819416157501...|       1.0|\n",
            "|           0|        0|           0|            0|                 0|              0|                   0|               60| 35|                   2|     0|(10,[7,8,9],[60.0...|[486.0,180.0]|[0.72972972972972...|       0.0|\n",
            "|           0|        0|           0|            0|                 0|              0|                   0|               61| 25|                   1|     0|(10,[7,8,9],[61.0...|[786.0,660.0]|[0.54356846473029...|       0.0|\n",
            "|           0|        0|           0|            0|                 0|              0|                   0|               62| 26|                   0|     0|(10,[7,8],[62.0,2...|[786.0,660.0]|[0.54356846473029...|       0.0|\n",
            "|           0|        0|           0|            0|                 0|              0|                   0|               63| 33|                   3|     0|(10,[7,8,9],[63.0...|[486.0,180.0]|[0.72972972972972...|       0.0|\n",
            "+------------+---------+------------+-------------+------------------+---------------+--------------------+-----------------+---+--------------------+------+--------------------+-------------+--------------------+----------+\n",
            "only showing top 20 rows\n",
            "\n"
          ]
        }
      ]
    },
    {
      "cell_type": "markdown",
      "source": [
        "Decision Tree Model Evaluation"
      ],
      "metadata": {
        "id": "qf0DjdPy7_6-"
      }
    },
    {
      "cell_type": "code",
      "source": [
        "dtpredictions1 = dt_predictions1.select(['prediction', 'stroke']).rdd.map(lambda x: (float(x[0]), float(x[1])))\n",
        "metricsdt1 = MulticlassMetrics(dtpredictions1)\n",
        "dtaccuracy1 = metricsdt1.accuracy\n",
        "dtf11= metricsdt1.weightedFMeasure()\n",
        "\n",
        "print(\"Original Dataset\")\n",
        "print(f\"Accuracy: {dtaccuracy1}\")\n",
        "print(f\"F1:{dtf11}\")\n",
        "print(\"Decision Tree Confusion Matrix\")\n",
        "print(metricsdt1.confusionMatrix().toArray())\n",
        "\n",
        "\n",
        "dtpredictions2 = dt_predictions2.select(['prediction', 'stroke']).rdd.map(lambda x: (float(x[0]), float(x[1])))\n",
        "metricsdt2 = MulticlassMetrics(dtpredictions2)\n",
        "dtaccuracy2 = metricsdt2.accuracy\n",
        "dtf12 = metricsdt2.weightedFMeasure()\n",
        "print(\"Balanced Dataset\")\n",
        "print(f\"Accuracy: {dtaccuracy2}\")\n",
        "print(f\"F1:{dtf12}\")\n",
        "print(\"Decision Tree Confusion Matrix\")\n",
        "print(metricsdt2.confusionMatrix().toArray())\n"
      ],
      "metadata": {
        "colab": {
          "base_uri": "https://localhost:8080/"
        },
        "id": "uREtAjZSnyDA",
        "outputId": "831ddd39-1a87-4793-af3b-69fffce5f89b"
      },
      "execution_count": 120,
      "outputs": [
        {
          "output_type": "stream",
          "name": "stdout",
          "text": [
            "Original Dataset\n",
            "Accuracy: 0.9572649572649573\n",
            "F1:0.9415146435772869\n",
            "Decision Tree Confusion Matrix\n",
            "[[1006.    4.]\n",
            " [  41.    2.]]\n",
            "Balanced Dataset\n",
            "Accuracy: 0.7030590717299579\n",
            "F1:0.7031001828417546\n",
            "Decision Tree Confusion Matrix\n",
            "[[702. 285.]\n",
            " [278. 631.]]\n"
          ]
        }
      ]
    },
    {
      "cell_type": "markdown",
      "source": [
        "Logistic Regression\n"
      ],
      "metadata": {
        "id": "pUIs3dkUedPG"
      }
    },
    {
      "cell_type": "code",
      "source": [
        "lr = LogisticRegression(labelCol=\"stroke\", featuresCol=\"features\")\n",
        "lr_model1 = lr.fit(train_data1)\n",
        "lr_predictions1 = lr_model1.transform(test_data1)\n",
        "print(\"Original Dataset\")\n",
        "lr_predictions1.show()\n",
        "\n",
        "lr_model2 = lr.fit(train_data2)\n",
        "lr_predictions2 = lr_model2.transform(test_data2)\n",
        "print(\"Balanced Datasset\")\n",
        "lr_predictions2.show()\n"
      ],
      "metadata": {
        "colab": {
          "base_uri": "https://localhost:8080/"
        },
        "id": "Sa9w1V8JegTo",
        "outputId": "fdfafb9c-6963-442c-d034-eeafb7c1cde2"
      },
      "execution_count": 121,
      "outputs": [
        {
          "output_type": "stream",
          "name": "stdout",
          "text": [
            "Original Dataset\n",
            "+------------+---------+------------+-------------+------------------+---------------+--------------------+-----------------+---+--------------------+------+--------------------+--------------------+--------------------+----------+\n",
            "|gender_label|age_label|hypertension|heart_disease|ever_married_label|work_type_label|Residence_type_label|avg_glucose_level|bmi|smoking_status_label|stroke|            features|       rawPrediction|         probability|prediction|\n",
            "+------------+---------+------------+-------------+------------------+---------------+--------------------+-----------------+---+--------------------+------+--------------------+--------------------+--------------------+----------+\n",
            "|           0|        0|           0|            0|                 0|              0|                   0|               55| 43|                   0|     0|(10,[7,8],[55.0,4...|[3.33341447915026...|[0.96555750303817...|       0.0|\n",
            "|           0|        0|           0|            0|                 0|              0|                   0|               57| 41|                   0|     0|(10,[7,8],[57.0,4...|[3.30597557481597...|[0.96463324013179...|       0.0|\n",
            "|           0|        0|           0|            0|                 0|              0|                   0|               57| 53|                   2|     0|(10,[7,8,9],[57.0...|[3.28532669023409...|[0.96392198515207...|       0.0|\n",
            "|           0|        0|           0|            0|                 0|              0|                   0|               58| 23|                   0|     0|(10,[7,8],[58.0,2...|[3.15892435264780...|[0.95925892956133...|       0.0|\n",
            "|           0|        0|           0|            0|                 0|              0|                   0|               58| 33|                   0|     0|(10,[7,8],[58.0,3...|[3.23735480558958...|[0.96221605746108...|       0.0|\n",
            "|           0|        0|           0|            0|                 0|              0|                   0|               60| 35|                   2|     0|(10,[7,8,9],[60.0...|[3.12652265431999...|[0.95797361716628...|       0.0|\n",
            "|           0|        0|           0|            0|                 0|              0|                   0|               62| 23|                   2|     0|(10,[7,8,9],[62.0...|[3.02065329704392...|[0.95349850067811...|       0.0|\n",
            "|           0|        0|           0|            0|                 0|              0|                   0|               62| 23|                   3|     0|(10,[7,8,9],[62.0...|[2.96327058298791...|[0.95088695868532...|       0.0|\n",
            "|           0|        0|           0|            0|                 0|              0|                   0|               64| 27|                   0|     0|(10,[7,8],[64.0,2...|[3.15503809258672...|[0.95910677834827...|       0.0|\n",
            "|           0|        0|           0|            0|                 0|              0|                   0|               65| 17|                   2|     0|(10,[7,8,9],[65.0...|[2.95596580465995...|[0.95054469281936...|       0.0|\n",
            "|           0|        0|           0|            0|                 0|              0|                   0|               65| 30|                   0|     0|(10,[7,8],[65.0,3...|[3.17269082159629...|[0.95979355165398...|       0.0|\n",
            "|           0|        0|           0|            0|                 0|              0|                   0|               65| 32|                   0|     0|(10,[7,8],[65.0,3...|[3.18837691218464...|[0.96039452936979...|       0.0|\n",
            "|           0|        0|           0|            0|                 0|              0|                   0|               65| 39|                   0|     0|(10,[7,8],[65.0,3...|[3.24327822924389...|[0.96243082269058...|       0.0|\n",
            "|           0|        0|           0|            0|                 0|              0|                   0|               67| 24|                   2|     0|(10,[7,8,9],[67.0...|[2.99911430797327...|[0.95253409817259...|       0.0|\n",
            "|           0|        0|           0|            0|                 0|              0|                   0|               69| 20|                   0|     0|(10,[7,8],[69.0,2...|[3.07075474116264...|[0.95567015779795...|       0.0|\n",
            "|           0|        0|           0|            0|                 0|              0|                   0|               69| 24|                   0|     0|(10,[7,8],[69.0,2...|[3.10212692233935...|[0.95698039331253...|       0.0|\n",
            "|           0|        0|           0|            0|                 0|              0|                   0|               70| 28|                   3|     0|(10,[7,8,9],[70.0...|[2.95547455447507...|[0.95052159429179...|       0.0|\n",
            "|           0|        0|           0|            0|                 0|              0|                   0|               70| 35|                   1|     0|(10,[7,8,9],[70.0...|[3.12514129964634...|[0.95791796840195...|       0.0|\n",
            "|           0|        0|           0|            0|                 0|              0|                   0|               71| 22|                   1|     0|(10,[7,8,9],[71.0...|[3.01730530394906...|[0.95334982805215...|       0.0|\n",
            "|           0|        0|           0|            0|                 0|              0|                   0|               71| 28|                   3|     0|(10,[7,8,9],[71.0...|[2.94959814760211...|[0.95024449233866...|       0.0|\n",
            "+------------+---------+------------+-------------+------------------+---------------+--------------------+-----------------+---+--------------------+------+--------------------+--------------------+--------------------+----------+\n",
            "only showing top 20 rows\n",
            "\n",
            "Balanced Datasset\n",
            "+------------+---------+------------+-------------+------------------+---------------+--------------------+-----------------+---+--------------------+------+--------------------+--------------------+--------------------+----------+\n",
            "|gender_label|age_label|hypertension|heart_disease|ever_married_label|work_type_label|Residence_type_label|avg_glucose_level|bmi|smoking_status_label|stroke|            features|       rawPrediction|         probability|prediction|\n",
            "+------------+---------+------------+-------------+------------------+---------------+--------------------+-----------------+---+--------------------+------+--------------------+--------------------+--------------------+----------+\n",
            "|           0|        0|           0|            0|                 0|              0|                   0|               55| 43|                   0|     0|(10,[7,8],[55.0,4...|[0.43592380721480...|[0.60728732814992...|       0.0|\n",
            "|           0|        0|           0|            0|                 0|              0|                   0|               57| 28|                   2|     1|(10,[7,8,9],[57.0...|[0.16618502313413...|[0.54145090227234...|       0.0|\n",
            "|           0|        0|           0|            0|                 0|              0|                   0|               57| 28|                   2|     1|(10,[7,8,9],[57.0...|[0.16618502313413...|[0.54145090227234...|       0.0|\n",
            "|           0|        0|           0|            0|                 0|              0|                   0|               57| 28|                   2|     1|(10,[7,8,9],[57.0...|[0.16618502313413...|[0.54145090227234...|       0.0|\n",
            "|           0|        0|           0|            0|                 0|              0|                   0|               57| 28|                   2|     1|(10,[7,8,9],[57.0...|[0.16618502313413...|[0.54145090227234...|       0.0|\n",
            "|           0|        0|           0|            0|                 0|              0|                   0|               57| 30|                   2|     0|(10,[7,8,9],[57.0...|[0.19018458120673...|[0.54740334907650...|       0.0|\n",
            "|           0|        0|           0|            0|                 0|              0|                   0|               57| 53|                   2|     0|(10,[7,8,9],[57.0...|[0.46617949904164...|[0.61447909735718...|       0.0|\n",
            "|           0|        0|           0|            0|                 0|              0|                   0|               58| 23|                   0|     0|(10,[7,8],[58.0,2...|[0.17657817205717...|[0.54403019783870...|       0.0|\n",
            "|           0|        0|           0|            0|                 0|              0|                   0|               58| 24|                   1|     1|(10,[7,8,9],[58.0...|[0.15015691996926...|[0.53746885526303...|       0.0|\n",
            "|           0|        0|           0|            0|                 0|              0|                   0|               58| 24|                   1|     1|(10,[7,8,9],[58.0...|[0.15015691996926...|[0.53746885526303...|       0.0|\n",
            "|           0|        0|           0|            0|                 0|              0|                   0|               58| 24|                   1|     1|(10,[7,8,9],[58.0...|[0.15015691996926...|[0.53746885526303...|       0.0|\n",
            "|           0|        0|           0|            0|                 0|              0|                   0|               59| 22|                   0|     0|(10,[7,8],[59.0,2...|[0.15812837487699...|[0.53944992554487...|       0.0|\n",
            "|           0|        0|           0|            0|                 0|              0|                   0|               60| 24|                   0|     0|(10,[7,8],[60.0,2...|[0.17567791480572...|[0.54380686997975...|       0.0|\n",
            "|           0|        0|           0|            0|                 0|              0|                   0|               60| 29|                   0|     1|(10,[7,8],[60.0,2...|[0.23567680998722...|[0.55864799360576...|       0.0|\n",
            "|           0|        0|           0|            0|                 0|              0|                   0|               60| 29|                   0|     1|(10,[7,8],[60.0,2...|[0.23567680998722...|[0.55864799360576...|       0.0|\n",
            "|           0|        0|           0|            0|                 0|              0|                   0|               60| 29|                   0|     1|(10,[7,8],[60.0,2...|[0.23567680998722...|[0.55864799360576...|       0.0|\n",
            "|           0|        0|           0|            0|                 0|              0|                   0|               60| 35|                   2|     0|(10,[7,8,9],[60.0...|[0.23083342195661...|[0.55745346887779...|       0.0|\n",
            "|           0|        0|           0|            0|                 0|              0|                   0|               61| 25|                   1|     0|(10,[7,8,9],[61.0...|[0.14280664457393...|[0.53564111043318...|       0.0|\n",
            "|           0|        0|           0|            0|                 0|              0|                   0|               62| 26|                   0|     0|(10,[7,8],[62.0,2...|[0.18677743659057...|[0.54655908349982...|       0.0|\n",
            "|           0|        0|           0|            0|                 0|              0|                   0|               63| 33|                   3|     0|(10,[7,8,9],[63.0...|[0.14906277832818...|[0.53719684481048...|       0.0|\n",
            "+------------+---------+------------+-------------+------------------+---------------+--------------------+-----------------+---+--------------------+------+--------------------+--------------------+--------------------+----------+\n",
            "only showing top 20 rows\n",
            "\n"
          ]
        }
      ]
    },
    {
      "cell_type": "markdown",
      "source": [
        "Logistic Regression Model Evaluation"
      ],
      "metadata": {
        "id": "tql5Q0In8Ff6"
      }
    },
    {
      "cell_type": "code",
      "source": [
        "lrpredictionsrdd1 = lr_predictions1.select(['prediction', 'stroke']).rdd.map(lambda x: (float(x[0]), float(x[1])))\n",
        "metricslr1 = MulticlassMetrics(lrpredictionsrdd1)\n",
        "\n",
        "lraccuracy1 = metricslr1.accuracy\n",
        "lrf11 = metricslr1.weightedFMeasure()\n",
        "print(\"Original Dataset\")\n",
        "print(f\"Accuracy: {lraccuracy1}\"),\n",
        "print(f\"F1      : {lrf11}\")\n",
        "\n",
        "print(\"Confusion Matrix\")\n",
        "print(metricslr1.confusionMatrix().toArray())\n",
        "\n",
        "\n",
        "lrpredictionsrdd2 = lr_predictions2.select(['prediction', 'stroke']).rdd.map(lambda x: (float(x[0]), float(x[1])))\n",
        "metricslr2 = MulticlassMetrics(lrpredictionsrdd2)\n",
        "\n",
        "lraccuracy2 = metricslr2.accuracy\n",
        "lrf12 = metricslr2.weightedFMeasure()\n",
        "print(\"Balanced Datset\")\n",
        "print(f\"Accuracy: {lraccuracy2}\")\n",
        "print(f\"F1      : {lrf12}\")\n",
        "\n",
        "print(\"Confusion Matrix\")\n",
        "print(metricslr2.confusionMatrix().toArray())"
      ],
      "metadata": {
        "colab": {
          "base_uri": "https://localhost:8080/"
        },
        "id": "uoqgWNHEoMfM",
        "outputId": "e1cf74c5-ef61-40d1-ba72-d36c7cb632fa"
      },
      "execution_count": 122,
      "outputs": [
        {
          "output_type": "stream",
          "name": "stdout",
          "text": [
            "Original Dataset\n",
            "Accuracy: 0.9591642924976258\n",
            "F1      : 0.9391720168905497\n",
            "Confusion Matrix\n",
            "[[1010.    0.]\n",
            " [  43.    0.]]\n",
            "Balanced Datset\n",
            "Accuracy: 0.6940928270042194\n",
            "F1      : 0.6929683497773705\n",
            "Confusion Matrix\n",
            "[[738. 249.]\n",
            " [331. 578.]]\n"
          ]
        }
      ]
    },
    {
      "cell_type": "markdown",
      "source": [
        "COMBINING ALL THE ALGORITHMS OUTPUT IN A SINGLE DATAFRAME"
      ],
      "metadata": {
        "id": "Neotqwf3pAHV"
      }
    },
    {
      "cell_type": "code",
      "source": [
        "rf_predictions_id1 = rf_predictions1.withColumn(\"row_id\", monotonically_increasing_id())\n",
        "dt_predictions_id1 = dt_predictions1.withColumn(\"row_id\", monotonically_increasing_id())\n",
        "lr_predictions_id1 = lr_predictions1.withColumn(\"row_id\", monotonically_increasing_id())\n",
        "rf_predictions_id1 = rf_predictions_id1.withColumnRenamed(\"prediction\", \"rf_prediction\")\n",
        "dt_predictions_id1 = dt_predictions_id1.withColumnRenamed(\"prediction\", \"dt_prediction\")\n",
        "lr_predictions_id1= lr_predictions_id1.withColumnRenamed(\"prediction\", \"lr_prediction\")\n",
        "\n",
        "combined_predictions1 = rf_predictions_id1.join(dt_predictions_id1, \"row_id\").join(lr_predictions_id1, \"row_id\")\n",
        "combined_predictions1= rf_predictions_id1.join(dt_predictions_id1.drop(\"stroke\"), \"row_id\").join(lr_predictions_id1.drop(\"stroke\"), \"row_id\")\n",
        "\n",
        "final_original = combined_predictions1.select(\"rf_prediction\", \"dt_prediction\", \"lr_prediction\", \"stroke\")\n",
        "print(\"Original Dataset\")\n",
        "final_original.show()\n",
        "\n",
        "\n",
        "rf_predictions_id2 = rf_predictions2.withColumn(\"row_id\", monotonically_increasing_id())\n",
        "dt_predictions_id2= dt_predictions2.withColumn(\"row_id\", monotonically_increasing_id())\n",
        "lr_predictions_id2 = lr_predictions2.withColumn(\"row_id\", monotonically_increasing_id())\n",
        "rf_predictions_id2 = rf_predictions_id2.withColumnRenamed(\"prediction\", \"rf_prediction\")\n",
        "dt_predictions_id2 = dt_predictions_id2.withColumnRenamed(\"prediction\", \"dt_prediction\")\n",
        "lr_predictions_id2= lr_predictions_id2.withColumnRenamed(\"prediction\", \"lr_prediction\")\n",
        "\n",
        "combined_predictions2= rf_predictions_id2.join(dt_predictions_id2, \"row_id\").join(lr_predictions_id2, \"row_id\")\n",
        "combined_predictions2= rf_predictions_id2.join(dt_predictions_id2.drop(\"stroke\"), \"row_id\").join(lr_predictions_id2.drop(\"stroke\"), \"row_id\")\n",
        "\n",
        "final_balanced= combined_predictions2.select(\"rf_prediction\", \"dt_prediction\", \"lr_prediction\", \"stroke\")\n",
        "print(\"Balanced Dataset\")\n",
        "final_balanced.show()"
      ],
      "metadata": {
        "colab": {
          "base_uri": "https://localhost:8080/"
        },
        "id": "KjSoYfiAuKXn",
        "outputId": "b9f25107-9027-4a67-cd7c-504c9c322b3e"
      },
      "execution_count": 123,
      "outputs": [
        {
          "output_type": "stream",
          "name": "stdout",
          "text": [
            "Original Dataset\n",
            "+-------------+-------------+-------------+------+\n",
            "|rf_prediction|dt_prediction|lr_prediction|stroke|\n",
            "+-------------+-------------+-------------+------+\n",
            "|          0.0|          0.0|          0.0|     0|\n",
            "|          0.0|          0.0|          0.0|     0|\n",
            "|          0.0|          0.0|          0.0|     0|\n",
            "|          0.0|          0.0|          0.0|     0|\n",
            "|          0.0|          0.0|          0.0|     0|\n",
            "|          0.0|          0.0|          0.0|     0|\n",
            "|          0.0|          0.0|          0.0|     0|\n",
            "|          0.0|          0.0|          0.0|     0|\n",
            "|          0.0|          0.0|          0.0|     0|\n",
            "|          0.0|          0.0|          0.0|     0|\n",
            "|          0.0|          0.0|          0.0|     0|\n",
            "|          0.0|          0.0|          0.0|     0|\n",
            "|          0.0|          0.0|          0.0|     0|\n",
            "|          0.0|          0.0|          0.0|     0|\n",
            "|          0.0|          0.0|          0.0|     0|\n",
            "|          0.0|          0.0|          0.0|     0|\n",
            "|          0.0|          0.0|          0.0|     0|\n",
            "|          0.0|          0.0|          0.0|     0|\n",
            "|          0.0|          0.0|          0.0|     0|\n",
            "|          0.0|          0.0|          0.0|     0|\n",
            "+-------------+-------------+-------------+------+\n",
            "only showing top 20 rows\n",
            "\n",
            "Balanced Dataset\n",
            "+-------------+-------------+-------------+------+\n",
            "|rf_prediction|dt_prediction|lr_prediction|stroke|\n",
            "+-------------+-------------+-------------+------+\n",
            "|          0.0|          0.0|          0.0|     0|\n",
            "|          1.0|          1.0|          0.0|     1|\n",
            "|          1.0|          1.0|          0.0|     1|\n",
            "|          1.0|          1.0|          0.0|     1|\n",
            "|          1.0|          1.0|          0.0|     1|\n",
            "|          1.0|          1.0|          0.0|     0|\n",
            "|          0.0|          0.0|          0.0|     0|\n",
            "|          0.0|          0.0|          0.0|     0|\n",
            "|          0.0|          0.0|          0.0|     1|\n",
            "|          0.0|          0.0|          0.0|     1|\n",
            "|          0.0|          0.0|          0.0|     1|\n",
            "|          0.0|          0.0|          0.0|     0|\n",
            "|          0.0|          0.0|          0.0|     0|\n",
            "|          0.0|          1.0|          0.0|     1|\n",
            "|          0.0|          1.0|          0.0|     1|\n",
            "|          0.0|          1.0|          0.0|     1|\n",
            "|          0.0|          0.0|          0.0|     0|\n",
            "|          0.0|          0.0|          0.0|     0|\n",
            "|          0.0|          0.0|          0.0|     0|\n",
            "|          0.0|          0.0|          0.0|     0|\n",
            "+-------------+-------------+-------------+------+\n",
            "only showing top 20 rows\n",
            "\n"
          ]
        }
      ]
    },
    {
      "cell_type": "markdown",
      "source": [
        "Ensemble:Majority Voting or Hard Voting"
      ],
      "metadata": {
        "id": "EQ2SSoIK8bZF"
      }
    },
    {
      "cell_type": "code",
      "source": [
        "def hardvoting(a, b, c):\n",
        "    zeros = (a == 0) + (b == 0) + (c == 0)\n",
        "    ones = (a == 1) + (b == 1) + (c == 1)\n",
        "\n",
        "    if zeros > ones:\n",
        "        return 0\n",
        "    elif ones >zeros:\n",
        "        return 1\n",
        "\n",
        "hardvotingudf = udf(hardvoting, IntegerType())\n",
        "final_original = final_original.withColumn(\"ensemble_prediction\",hardvotingudf(\"rf_prediction\", \"dt_prediction\", \"lr_prediction\"))\n",
        "print(\"Original Dataset\")\n",
        "final_original.show()\n",
        "final_balanced=final_balanced.withColumn(\"ensemble_prediction\",hardvotingudf(\"rf_prediction\", \"dt_prediction\", \"lr_prediction\"))\n",
        "print(\"Balanced Dataset\")\n",
        "final_balanced.show()\n",
        "\n"
      ],
      "metadata": {
        "colab": {
          "base_uri": "https://localhost:8080/"
        },
        "id": "H2xvU3u_zbYg",
        "outputId": "222b55f3-1d86-41e4-865a-18556e759bb8"
      },
      "execution_count": 124,
      "outputs": [
        {
          "output_type": "stream",
          "name": "stdout",
          "text": [
            "Original Dataset\n",
            "+-------------+-------------+-------------+------+-------------------+\n",
            "|rf_prediction|dt_prediction|lr_prediction|stroke|ensemble_prediction|\n",
            "+-------------+-------------+-------------+------+-------------------+\n",
            "|          0.0|          0.0|          0.0|     0|                  0|\n",
            "|          0.0|          0.0|          0.0|     0|                  0|\n",
            "|          0.0|          0.0|          0.0|     0|                  0|\n",
            "|          0.0|          0.0|          0.0|     0|                  0|\n",
            "|          0.0|          0.0|          0.0|     0|                  0|\n",
            "|          0.0|          0.0|          0.0|     0|                  0|\n",
            "|          0.0|          0.0|          0.0|     0|                  0|\n",
            "|          0.0|          0.0|          0.0|     0|                  0|\n",
            "|          0.0|          0.0|          0.0|     0|                  0|\n",
            "|          0.0|          0.0|          0.0|     0|                  0|\n",
            "|          0.0|          0.0|          0.0|     0|                  0|\n",
            "|          0.0|          0.0|          0.0|     0|                  0|\n",
            "|          0.0|          0.0|          0.0|     0|                  0|\n",
            "|          0.0|          0.0|          0.0|     0|                  0|\n",
            "|          0.0|          0.0|          0.0|     0|                  0|\n",
            "|          0.0|          0.0|          0.0|     0|                  0|\n",
            "|          0.0|          0.0|          0.0|     0|                  0|\n",
            "|          0.0|          0.0|          0.0|     0|                  0|\n",
            "|          0.0|          0.0|          0.0|     0|                  0|\n",
            "|          0.0|          0.0|          0.0|     0|                  0|\n",
            "+-------------+-------------+-------------+------+-------------------+\n",
            "only showing top 20 rows\n",
            "\n",
            "Balanced Dataset\n",
            "+-------------+-------------+-------------+------+-------------------+\n",
            "|rf_prediction|dt_prediction|lr_prediction|stroke|ensemble_prediction|\n",
            "+-------------+-------------+-------------+------+-------------------+\n",
            "|          0.0|          0.0|          0.0|     0|                  0|\n",
            "|          1.0|          1.0|          0.0|     1|                  1|\n",
            "|          1.0|          1.0|          0.0|     1|                  1|\n",
            "|          1.0|          1.0|          0.0|     1|                  1|\n",
            "|          1.0|          1.0|          0.0|     1|                  1|\n",
            "|          1.0|          1.0|          0.0|     0|                  1|\n",
            "|          0.0|          0.0|          0.0|     0|                  0|\n",
            "|          0.0|          0.0|          0.0|     0|                  0|\n",
            "|          0.0|          0.0|          0.0|     1|                  0|\n",
            "|          0.0|          0.0|          0.0|     1|                  0|\n",
            "|          0.0|          0.0|          0.0|     1|                  0|\n",
            "|          0.0|          0.0|          0.0|     0|                  0|\n",
            "|          0.0|          0.0|          0.0|     0|                  0|\n",
            "|          0.0|          1.0|          0.0|     1|                  0|\n",
            "|          0.0|          1.0|          0.0|     1|                  0|\n",
            "|          0.0|          1.0|          0.0|     1|                  0|\n",
            "|          0.0|          0.0|          0.0|     0|                  0|\n",
            "|          0.0|          0.0|          0.0|     0|                  0|\n",
            "|          0.0|          0.0|          0.0|     0|                  0|\n",
            "|          0.0|          0.0|          0.0|     0|                  0|\n",
            "+-------------+-------------+-------------+------+-------------------+\n",
            "only showing top 20 rows\n",
            "\n"
          ]
        }
      ]
    },
    {
      "cell_type": "markdown",
      "source": [
        "Ensemble Evaluation"
      ],
      "metadata": {
        "id": "H_LhZ5xw8Tvi"
      }
    },
    {
      "cell_type": "code",
      "source": [
        "final_original = final_original.withColumn(\"ensemble_prediction\", col(\"ensemble_prediction\").cast(\"double\"))\n",
        "\n",
        "evaluator1 = MulticlassClassificationEvaluator(predictionCol=\"ensemble_prediction\", labelCol=\"stroke\", metricName=\"accuracy\")\n",
        "accuracy_original_ensemble = evaluator1.evaluate(final_original)\n",
        "\n",
        "print(\"Accuracy:\", accuracy_original_ensemble)  # ✅ fixed this line (was wrongly printing accuracy1)\n",
        "\n",
        "predictionAndLabels1 = final_original.select(\"ensemble_prediction\", \"stroke\").rdd.map(lambda row: (float(row[0]), float(row[1])))\n",
        "metrics = MulticlassMetrics(predictionAndLabels1)\n",
        "confusion_matrix1 = metrics.confusionMatrix()\n",
        "\n",
        "print(\"Confusion Matrix:\")\n",
        "print(confusion_matrix1)\n",
        "\n",
        "final_balanced = final_balanced.withColumn(\"ensemble_prediction\", col(\"ensemble_prediction\").cast(\"double\"))\n",
        "\n",
        "evaluator2 = MulticlassClassificationEvaluator(predictionCol=\"ensemble_prediction\", labelCol=\"stroke\", metricName=\"accuracy\")\n",
        "accuracy_balanced_ensemble = evaluator2.evaluate(final_balanced)\n",
        "\n",
        "print(\"Accuracy:\", accuracy_balanced_ensemble)  # ✅ fixed this line (was wrongly printing accuracy2)\n",
        "\n",
        "predictionAndLabels2 = final_balanced.select(\"ensemble_prediction\", \"stroke\").rdd.map(lambda row: (float(row[0]), float(row[1])))\n",
        "metrics = MulticlassMetrics(predictionAndLabels2)\n",
        "confusion_matrix2 = metrics.confusionMatrix()\n",
        "\n",
        "print(\"Confusion Matrix:\")\n",
        "print(confusion_matrix2)\n"
      ],
      "metadata": {
        "colab": {
          "base_uri": "https://localhost:8080/"
        },
        "id": "9lqwKqmO2-0A",
        "outputId": "cf8636a7-822b-4640-9cec-a61021a9d5f6"
      },
      "execution_count": 126,
      "outputs": [
        {
          "output_type": "stream",
          "name": "stdout",
          "text": [
            "Accuracy: 0.9591642924976258\n",
            "Confusion Matrix:\n",
            "DenseMatrix([[1010.,    0.],\n",
            "             [  43.,    0.]])\n",
            "Accuracy: 0.7304852320675106\n",
            "Confusion Matrix:\n",
            "DenseMatrix([[757., 230.],\n",
            "             [281., 628.]])\n"
          ]
        }
      ]
    },
    {
      "cell_type": "code",
      "source": [
        "import matplotlib.pyplot as plt\n",
        "import pandas as pd\n",
        "\n",
        "accuracy_dict = {\n",
        "    \"Random Forest - Original\": accuracy1,\n",
        "    \"Random Forest - Balanced\": accuracy2,\n",
        "    \"Decision Tree - Original\": dtaccuracy1,\n",
        "    \"Decision Tree - Balanced\": dtaccuracy2,\n",
        "    \"LogReg - Original\": lraccuracy1,\n",
        "    \"LogReg - Balanced\": lraccuracy2,\n",
        "    \"Ensemble - Original\": accuracy_original_ensemble,\n",
        "    \"Ensemble - Balanced\": accuracy_balanced_ensemble\n",
        "}\n",
        "\n",
        "acc_df = pd.DataFrame(list(accuracy_dict.items()), columns=[\"Model\", \"Accuracy\"])\n",
        "acc_df.plot(kind=\"bar\", x=\"Model\", y=\"Accuracy\", legend=False)\n",
        "plt.title(\"Model Accuracy Comparison (Including Ensemble)\")\n",
        "plt.ylim(0, 1)\n",
        "plt.tight_layout()\n",
        "plt.savefig(\"accuracy_comparison_ensemble.png\")\n",
        "plt.show()\n"
      ],
      "metadata": {
        "id": "kxPmYhS24UGK",
        "colab": {
          "base_uri": "https://localhost:8080/",
          "height": 487
        },
        "outputId": "f9afa253-7bcc-4af6-fe96-71a35abbd310"
      },
      "execution_count": 127,
      "outputs": [
        {
          "output_type": "display_data",
          "data": {
            "text/plain": [
              "<Figure size 640x480 with 1 Axes>"
            ],
            "image/png": "[encoded data removed]"
          },
          "metadata": {}
        }
      ]
    }
  ]
}